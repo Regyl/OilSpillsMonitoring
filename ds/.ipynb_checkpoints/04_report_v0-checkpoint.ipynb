{
 "cells": [
  {
   "cell_type": "markdown",
   "metadata": {},
   "source": [
    "## Введение"
   ]
  },
  {
   "cell_type": "markdown",
   "metadata": {},
   "source": [
    "### Описание этапа обработки\n",
    "\n",
    "Сталь обрабатывают в металлическом ковше вместимостью около 100 тонн. Чтобы ковш выдерживал высокие температуры, изнутри его облицовывают огнеупорным кирпичом. Расплавленную сталь заливают в ковш и подогревают до нужной температуры графитовыми электродами. Они установлены в крышке ковша. \n",
    "\n",
    "Из сплава выводится сера (десульфурация), добавлением примесей корректируется химический состав и отбираются пробы. Сталь легируют — изменяют её состав — подавая куски сплава из бункера для сыпучих материалов или проволоку через специальный трайб-аппарат (англ. tribe, «масса»).\n",
    "\n",
    "Перед тем как первый раз ввести легирующие добавки, измеряют температуру стали и производят её химический анализ. Потом температуру на несколько минут повышают, добавляют легирующие материалы и продувают сплав инертным газом. Затем его перемешивают и снова проводят измерения. Такой цикл повторяется до достижения целевого химического состава и оптимальной температуры плавки."
   ]
  },
  {
   "cell_type": "markdown",
   "metadata": {},
   "source": [
    "### Описание данных\n",
    "\n",
    "Данные состоят из файлов, полученных из разных источников:\n",
    "\n",
    "- `data_arc.csv` — данные об электродах;\n",
    "- `data_bulk.csv` — данные о подаче сыпучих материалов (объём);\n",
    "- `data_bulk_time.csv` *—* данные о подаче сыпучих материалов (время);\n",
    "- `data_gas.csv` — данные о продувке сплава газом;\n",
    "- `data_temp.csv` — результаты измерения температуры;\n",
    "- `data_wire.csv` — данные о проволочных материалах (объём);\n",
    "- `data_wire_time.csv` — данные о проволочных материалах (время).\n",
    "\n",
    "Во всех файлах столбец `key` содержит номер партии. В файлах может быть несколько строк с одинаковым значением `key`: они соответствуют разным итерациям обработки."
   ]
  },
  {
   "cell_type": "markdown",
   "metadata": {},
   "source": [
    "## Импорт необходимых библиотек"
   ]
  },
  {
   "cell_type": "code",
   "execution_count": 1,
   "metadata": {},
   "outputs": [],
   "source": [
    "import pandas as pd\n",
    "import os\n",
    "from matplotlib import pyplot as plt\n",
    "from datetime import datetime\n",
    "\n",
    "from sklearn.linear_model import LinearRegression, RidgeCV, ElasticNet\n",
    "from sklearn.ensemble import RandomForestRegressor\n",
    "import lightgbm as lgb\n",
    "from sklearn.dummy import DummyRegressor\n",
    "from catboost import CatBoostRegressor\n",
    "\n",
    "from sklearn.model_selection import train_test_split, GridSearchCV, TimeSeriesSplit\n",
    "\n",
    "from sklearn.metrics import mean_absolute_error"
   ]
  },
  {
   "cell_type": "code",
   "execution_count": 2,
   "metadata": {},
   "outputs": [],
   "source": [
    "PATH = '/datasets/final_steel/'\n",
    "RANDOM_STATE = 42\n",
    "\n",
    "dfs = {}\n",
    "final_dfs = {}"
   ]
  },
  {
   "cell_type": "markdown",
   "metadata": {},
   "source": [
    "## Загрузка данных, анализ и предобработка"
   ]
  },
  {
   "cell_type": "markdown",
   "metadata": {},
   "source": [
    "Так как файлов достаточно много, прочитаем их все разом в цикле:"
   ]
  },
  {
   "cell_type": "code",
   "execution_count": 3,
   "metadata": {},
   "outputs": [
    {
     "data": {
      "text/plain": [
       "dict_keys(['data_gas', 'data_bulk', 'data_bulk_time', 'data_wire_time', 'data_arc', 'data_temp', 'data_wire'])"
      ]
     },
     "execution_count": 3,
     "metadata": {},
     "output_type": "execute_result"
    }
   ],
   "source": [
    "csv_files = [f for f in os.listdir(PATH) if f.endswith('.csv')]\n",
    "csv_names = [csv_files[i][:-4] for i in range(len(csv_files))]\n",
    "\n",
    "for i in range(len(csv_names)):\n",
    "    dfs[csv_names[i]] = pd.read_csv(PATH + csv_files[i])\n",
    "    \n",
    "#Проверим список названий датафреймов в словаре:\n",
    "dfs.keys()"
   ]
  },
  {
   "cell_type": "markdown",
   "metadata": {},
   "source": [
    "### data_arc.csv"
   ]
  },
  {
   "cell_type": "code",
   "execution_count": 4,
   "metadata": {},
   "outputs": [
    {
     "data": {
      "text/html": [
       "<div>\n",
       "<style scoped>\n",
       "    .dataframe tbody tr th:only-of-type {\n",
       "        vertical-align: middle;\n",
       "    }\n",
       "\n",
       "    .dataframe tbody tr th {\n",
       "        vertical-align: top;\n",
       "    }\n",
       "\n",
       "    .dataframe thead th {\n",
       "        text-align: right;\n",
       "    }\n",
       "</style>\n",
       "<table border=\"1\" class=\"dataframe\">\n",
       "  <thead>\n",
       "    <tr style=\"text-align: right;\">\n",
       "      <th></th>\n",
       "      <th>key</th>\n",
       "      <th>Начало нагрева дугой</th>\n",
       "      <th>Конец нагрева дугой</th>\n",
       "      <th>Активная мощность</th>\n",
       "      <th>Реактивная мощность</th>\n",
       "    </tr>\n",
       "  </thead>\n",
       "  <tbody>\n",
       "    <tr>\n",
       "      <td>0</td>\n",
       "      <td>1</td>\n",
       "      <td>2019-05-03 11:02:14</td>\n",
       "      <td>2019-05-03 11:06:02</td>\n",
       "      <td>0.976059</td>\n",
       "      <td>0.687084</td>\n",
       "    </tr>\n",
       "    <tr>\n",
       "      <td>1</td>\n",
       "      <td>1</td>\n",
       "      <td>2019-05-03 11:07:28</td>\n",
       "      <td>2019-05-03 11:10:33</td>\n",
       "      <td>0.805607</td>\n",
       "      <td>0.520285</td>\n",
       "    </tr>\n",
       "  </tbody>\n",
       "</table>\n",
       "</div>"
      ],
      "text/plain": [
       "   key Начало нагрева дугой  Конец нагрева дугой  Активная мощность  \\\n",
       "0    1  2019-05-03 11:02:14  2019-05-03 11:06:02           0.976059   \n",
       "1    1  2019-05-03 11:07:28  2019-05-03 11:10:33           0.805607   \n",
       "\n",
       "   Реактивная мощность  \n",
       "0             0.687084  \n",
       "1             0.520285  "
      ]
     },
     "execution_count": 4,
     "metadata": {},
     "output_type": "execute_result"
    }
   ],
   "source": [
    "dfs['data_arc'].head(2)"
   ]
  },
  {
   "cell_type": "markdown",
   "metadata": {},
   "source": [
    "Переведём столбцы со временем к соответствующему типу:"
   ]
  },
  {
   "cell_type": "code",
   "execution_count": 5,
   "metadata": {},
   "outputs": [],
   "source": [
    "dfs['data_arc']['Начало нагрева дугой'] = pd.to_datetime(dfs['data_arc']['Начало нагрева дугой'])\n",
    "dfs['data_arc']['Конец нагрева дугой'] = pd.to_datetime(dfs['data_arc']['Конец нагрева дугой'])"
   ]
  },
  {
   "cell_type": "markdown",
   "metadata": {},
   "source": [
    "Построим гистограммы, для первичной оценки:"
   ]
  },
  {
   "cell_type": "code",
   "execution_count": 6,
   "metadata": {},
   "outputs": [
    {
     "data": {
      "image/png": "[encoded data removed]",
      "text/plain": [
       "<Figure size 1224x360 with 1 Axes>"
      ]
     },
     "metadata": {
      "needs_background": "light"
     },
     "output_type": "display_data"
    }
   ],
   "source": [
    "ax = dfs['data_arc']['Активная мощность'].plot(kind='hist', bins=100, figsize=(17,5), alpha=.5)\n",
    "dfs['data_arc'][dfs['data_arc']['Реактивная мощность'] >= 0]['Реактивная мощность'].plot(\n",
    "    ax=ax, kind='hist', bins=100, figsize=(17,5), alpha=.5, color='green')\n",
    "plt.legend()\n",
    "plt.show()"
   ]
  },
  {
   "cell_type": "markdown",
   "metadata": {},
   "source": [
    "При выводе гистограмм был найден единичный выброс в значениях реактивной мощности со значением ~ -715"
   ]
  },
  {
   "cell_type": "markdown",
   "metadata": {},
   "source": [
    "#### Предварительные выводы:\n",
    "\n",
    "- Данные не имеют пропусков, кроме единичного выброса в столбце \"Реактивная мощность\"\n",
    "- Для дальнейшей работы:\n",
    "  - Ввести новый признак, характеризующий время нагрева дугой, т.е. разность между концом и началом нагрева дуги;\n",
    "  - С учётом прямой физической зависимости активной и реактивной мощностей, и характером их распределения, можно как оставить только действующую часть (\"Активную мощность\"), так и перевести мощность в полную, в соответствии с формулой $S = \\sqrt{P^2 + Q^2}$\n",
    "  \n",
    "--- \n",
    "#### Обработка:"
   ]
  },
  {
   "cell_type": "code",
   "execution_count": 7,
   "metadata": {},
   "outputs": [],
   "source": [
    "df_arc = dfs['data_arc'].copy()\n",
    "\n",
    "#Время нагрева дугой:\n",
    "df_arc['arc_time'] = (df_arc['Конец нагрева дугой'] - df_arc['Начало нагрева дугой']).dt.total_seconds()\n",
    "df_arc.drop(['Конец нагрева дугой', 'Начало нагрева дугой'], axis=1, inplace=True)\n",
    "\n",
    "df_arc = df_arc.assign(\n",
    "    full_power = lambda x: (x['Активная мощность']**2+x['Реактивная мощность']**2)**0.5).drop('Реактивная мощность', axis=1)\n",
    "\n",
    "#Переименование столбцов:\n",
    "df_arc.columns = ['key', 'active_power', 'arc_time', 'full_power']"
   ]
  },
  {
   "cell_type": "markdown",
   "metadata": {},
   "source": [
    "Рассмотрим результат:"
   ]
  },
  {
   "cell_type": "code",
   "execution_count": 8,
   "metadata": {},
   "outputs": [
    {
     "data": {
      "text/html": [
       "<div>\n",
       "<style scoped>\n",
       "    .dataframe tbody tr th:only-of-type {\n",
       "        vertical-align: middle;\n",
       "    }\n",
       "\n",
       "    .dataframe tbody tr th {\n",
       "        vertical-align: top;\n",
       "    }\n",
       "\n",
       "    .dataframe thead th {\n",
       "        text-align: right;\n",
       "    }\n",
       "</style>\n",
       "<table border=\"1\" class=\"dataframe\">\n",
       "  <thead>\n",
       "    <tr style=\"text-align: right;\">\n",
       "      <th></th>\n",
       "      <th>active_power</th>\n",
       "      <th>arc_time</th>\n",
       "    </tr>\n",
       "    <tr>\n",
       "      <th>key</th>\n",
       "      <th></th>\n",
       "      <th></th>\n",
       "    </tr>\n",
       "  </thead>\n",
       "  <tbody>\n",
       "    <tr>\n",
       "      <td>1</td>\n",
       "      <td>4.878147</td>\n",
       "      <td>219.60</td>\n",
       "    </tr>\n",
       "    <tr>\n",
       "      <td>2</td>\n",
       "      <td>3.052598</td>\n",
       "      <td>202.75</td>\n",
       "    </tr>\n",
       "    <tr>\n",
       "      <td>3</td>\n",
       "      <td>2.525882</td>\n",
       "      <td>131.00</td>\n",
       "    </tr>\n",
       "    <tr>\n",
       "      <td>4</td>\n",
       "      <td>3.209250</td>\n",
       "      <td>185.25</td>\n",
       "    </tr>\n",
       "    <tr>\n",
       "      <td>5</td>\n",
       "      <td>3.347173</td>\n",
       "      <td>217.25</td>\n",
       "    </tr>\n",
       "  </tbody>\n",
       "</table>\n",
       "</div>"
      ],
      "text/plain": [
       "     active_power  arc_time\n",
       "key                        \n",
       "1        4.878147    219.60\n",
       "2        3.052598    202.75\n",
       "3        2.525882    131.00\n",
       "4        3.209250    185.25\n",
       "5        3.347173    217.25"
      ]
     },
     "execution_count": 8,
     "metadata": {},
     "output_type": "execute_result"
    }
   ],
   "source": [
    "final_dfs['arc'] = pd.pivot_table(\n",
    "    df_arc,\n",
    "    values=['active_power', 'arc_time'],\n",
    "    index=['key'],\n",
    "    aggfunc={\n",
    "        'active_power':'sum',\n",
    "        'arc_time':'mean'\n",
    "    }\n",
    ")\n",
    "final_dfs['arc'].head()"
   ]
  },
  {
   "cell_type": "markdown",
   "metadata": {},
   "source": [
    "### data_bulk.csv и data_bulk_time.csv"
   ]
  },
  {
   "cell_type": "markdown",
   "metadata": {},
   "source": [
    "Просмотрим на начала таблиц:"
   ]
  },
  {
   "cell_type": "code",
   "execution_count": 9,
   "metadata": {},
   "outputs": [
    {
     "data": {
      "text/html": [
       "<div>\n",
       "<style scoped>\n",
       "    .dataframe tbody tr th:only-of-type {\n",
       "        vertical-align: middle;\n",
       "    }\n",
       "\n",
       "    .dataframe tbody tr th {\n",
       "        vertical-align: top;\n",
       "    }\n",
       "\n",
       "    .dataframe thead th {\n",
       "        text-align: right;\n",
       "    }\n",
       "</style>\n",
       "<table border=\"1\" class=\"dataframe\">\n",
       "  <thead>\n",
       "    <tr style=\"text-align: right;\">\n",
       "      <th></th>\n",
       "      <th>key</th>\n",
       "      <th>Bulk 1</th>\n",
       "      <th>Bulk 2</th>\n",
       "      <th>Bulk 3</th>\n",
       "      <th>Bulk 4</th>\n",
       "      <th>Bulk 5</th>\n",
       "      <th>Bulk 6</th>\n",
       "      <th>Bulk 7</th>\n",
       "      <th>Bulk 8</th>\n",
       "      <th>Bulk 9</th>\n",
       "      <th>Bulk 10</th>\n",
       "      <th>Bulk 11</th>\n",
       "      <th>Bulk 12</th>\n",
       "      <th>Bulk 13</th>\n",
       "      <th>Bulk 14</th>\n",
       "      <th>Bulk 15</th>\n",
       "    </tr>\n",
       "  </thead>\n",
       "  <tbody>\n",
       "    <tr>\n",
       "      <td>0</td>\n",
       "      <td>1</td>\n",
       "      <td>NaN</td>\n",
       "      <td>NaN</td>\n",
       "      <td>NaN</td>\n",
       "      <td>43.0</td>\n",
       "      <td>NaN</td>\n",
       "      <td>NaN</td>\n",
       "      <td>NaN</td>\n",
       "      <td>NaN</td>\n",
       "      <td>NaN</td>\n",
       "      <td>NaN</td>\n",
       "      <td>NaN</td>\n",
       "      <td>206.0</td>\n",
       "      <td>NaN</td>\n",
       "      <td>150.0</td>\n",
       "      <td>154.0</td>\n",
       "    </tr>\n",
       "    <tr>\n",
       "      <td>1</td>\n",
       "      <td>2</td>\n",
       "      <td>NaN</td>\n",
       "      <td>NaN</td>\n",
       "      <td>NaN</td>\n",
       "      <td>73.0</td>\n",
       "      <td>NaN</td>\n",
       "      <td>NaN</td>\n",
       "      <td>NaN</td>\n",
       "      <td>NaN</td>\n",
       "      <td>NaN</td>\n",
       "      <td>NaN</td>\n",
       "      <td>NaN</td>\n",
       "      <td>206.0</td>\n",
       "      <td>NaN</td>\n",
       "      <td>149.0</td>\n",
       "      <td>154.0</td>\n",
       "    </tr>\n",
       "  </tbody>\n",
       "</table>\n",
       "</div>"
      ],
      "text/plain": [
       "   key  Bulk 1  Bulk 2  Bulk 3  Bulk 4  Bulk 5  Bulk 6  Bulk 7  Bulk 8  \\\n",
       "0    1     NaN     NaN     NaN    43.0     NaN     NaN     NaN     NaN   \n",
       "1    2     NaN     NaN     NaN    73.0     NaN     NaN     NaN     NaN   \n",
       "\n",
       "   Bulk 9  Bulk 10  Bulk 11  Bulk 12  Bulk 13  Bulk 14  Bulk 15  \n",
       "0     NaN      NaN      NaN    206.0      NaN    150.0    154.0  \n",
       "1     NaN      NaN      NaN    206.0      NaN    149.0    154.0  "
      ]
     },
     "execution_count": 9,
     "metadata": {},
     "output_type": "execute_result"
    }
   ],
   "source": [
    "dfs['data_bulk'].head(2)"
   ]
  },
  {
   "cell_type": "markdown",
   "metadata": {},
   "source": [
    "#### Предварительные выводы:\n",
    "\n",
    "- Данные таблицы являются парными, с полным соответствием столбцов и строк, с разницей только в сущности данных\n",
    "- Количество пропусков - огромно, и не позволяет их отбросить, в связи с этим, необходимо выяснить физический смысл нумерации `Bulk 1` - `Bulk 15`, являются ли это подача разных материалов, или подача одного материала из разных источников, на данный момент предполагаю, что это всё таки разные источники разных материалов, так как к примеру, при рассмотрении первых трёх строк - `Bulk 4` подаётся позже, и в меньшем объёме, чем `Bulk 12`, `Bulk 14` и `Bulk 15`."
   ]
  },
  {
   "cell_type": "markdown",
   "metadata": {},
   "source": [
    "#### Обработка:\n",
    "\n",
    "Данные о времени внесения добавок в рамках данного анализа не имеют ценности, и могут быть отброшены.\n",
    "\n",
    "Данные о самих добавках:\n",
    "- пропуски в данных о добавках - заполним нулями;\n",
    "- оставим только столбцы с большим количеством данных."
   ]
  },
  {
   "cell_type": "markdown",
   "metadata": {},
   "source": [
    "Выберем все столбцы, где существует менее 100 записей:"
   ]
  },
  {
   "cell_type": "code",
   "execution_count": 10,
   "metadata": {},
   "outputs": [
    {
     "data": {
      "text/plain": [
       "['Bulk 2', 'Bulk 5', 'Bulk 7', 'Bulk 8', 'Bulk 9', 'Bulk 13']"
      ]
     },
     "execution_count": 10,
     "metadata": {},
     "output_type": "execute_result"
    }
   ],
   "source": [
    "smol_list = []\n",
    "for col in dfs['data_bulk'].columns:\n",
    "    if dfs['data_bulk'][~dfs['data_bulk'].isna()][col].count() < 100:\n",
    "        smol_list.append(col)\n",
    "        \n",
    "        \n",
    "smol_list"
   ]
  },
  {
   "cell_type": "code",
   "execution_count": 11,
   "metadata": {},
   "outputs": [
    {
     "data": {
      "text/html": [
       "<div>\n",
       "<style scoped>\n",
       "    .dataframe tbody tr th:only-of-type {\n",
       "        vertical-align: middle;\n",
       "    }\n",
       "\n",
       "    .dataframe tbody tr th {\n",
       "        vertical-align: top;\n",
       "    }\n",
       "\n",
       "    .dataframe thead th {\n",
       "        text-align: right;\n",
       "    }\n",
       "</style>\n",
       "<table border=\"1\" class=\"dataframe\">\n",
       "  <thead>\n",
       "    <tr style=\"text-align: right;\">\n",
       "      <th></th>\n",
       "      <th>Bulk 1</th>\n",
       "      <th>Bulk 3</th>\n",
       "      <th>Bulk 4</th>\n",
       "      <th>Bulk 6</th>\n",
       "      <th>Bulk 10</th>\n",
       "      <th>Bulk 11</th>\n",
       "      <th>Bulk 12</th>\n",
       "      <th>Bulk 14</th>\n",
       "      <th>Bulk 15</th>\n",
       "    </tr>\n",
       "    <tr>\n",
       "      <th>key</th>\n",
       "      <th></th>\n",
       "      <th></th>\n",
       "      <th></th>\n",
       "      <th></th>\n",
       "      <th></th>\n",
       "      <th></th>\n",
       "      <th></th>\n",
       "      <th></th>\n",
       "      <th></th>\n",
       "    </tr>\n",
       "  </thead>\n",
       "  <tbody>\n",
       "    <tr>\n",
       "      <td>1</td>\n",
       "      <td>0.0</td>\n",
       "      <td>0.0</td>\n",
       "      <td>43.0</td>\n",
       "      <td>0.0</td>\n",
       "      <td>0.0</td>\n",
       "      <td>0.0</td>\n",
       "      <td>206.0</td>\n",
       "      <td>150.0</td>\n",
       "      <td>154.0</td>\n",
       "    </tr>\n",
       "    <tr>\n",
       "      <td>2</td>\n",
       "      <td>0.0</td>\n",
       "      <td>0.0</td>\n",
       "      <td>73.0</td>\n",
       "      <td>0.0</td>\n",
       "      <td>0.0</td>\n",
       "      <td>0.0</td>\n",
       "      <td>206.0</td>\n",
       "      <td>149.0</td>\n",
       "      <td>154.0</td>\n",
       "    </tr>\n",
       "  </tbody>\n",
       "</table>\n",
       "</div>"
      ],
      "text/plain": [
       "     Bulk 1  Bulk 3  Bulk 4  Bulk 6  Bulk 10  Bulk 11  Bulk 12  Bulk 14  \\\n",
       "key                                                                       \n",
       "1       0.0     0.0    43.0     0.0      0.0      0.0    206.0    150.0   \n",
       "2       0.0     0.0    73.0     0.0      0.0      0.0    206.0    149.0   \n",
       "\n",
       "     Bulk 15  \n",
       "key           \n",
       "1      154.0  \n",
       "2      154.0  "
      ]
     },
     "execution_count": 11,
     "metadata": {},
     "output_type": "execute_result"
    }
   ],
   "source": [
    "final_dfs['bulk'] = dfs['data_bulk'].drop(smol_list, axis=1).fillna(0).set_index('key').copy()\n",
    "final_dfs['bulk'].head(2)"
   ]
  },
  {
   "cell_type": "markdown",
   "metadata": {},
   "source": [
    "### data_gas.csv"
   ]
  },
  {
   "cell_type": "code",
   "execution_count": 12,
   "metadata": {},
   "outputs": [
    {
     "data": {
      "text/html": [
       "<div>\n",
       "<style scoped>\n",
       "    .dataframe tbody tr th:only-of-type {\n",
       "        vertical-align: middle;\n",
       "    }\n",
       "\n",
       "    .dataframe tbody tr th {\n",
       "        vertical-align: top;\n",
       "    }\n",
       "\n",
       "    .dataframe thead th {\n",
       "        text-align: right;\n",
       "    }\n",
       "</style>\n",
       "<table border=\"1\" class=\"dataframe\">\n",
       "  <thead>\n",
       "    <tr style=\"text-align: right;\">\n",
       "      <th></th>\n",
       "      <th>key</th>\n",
       "      <th>Газ 1</th>\n",
       "    </tr>\n",
       "  </thead>\n",
       "  <tbody>\n",
       "    <tr>\n",
       "      <td>3234</td>\n",
       "      <td>3237</td>\n",
       "      <td>5.543905</td>\n",
       "    </tr>\n",
       "    <tr>\n",
       "      <td>3235</td>\n",
       "      <td>3238</td>\n",
       "      <td>6.745669</td>\n",
       "    </tr>\n",
       "    <tr>\n",
       "      <td>3236</td>\n",
       "      <td>3239</td>\n",
       "      <td>16.023518</td>\n",
       "    </tr>\n",
       "    <tr>\n",
       "      <td>3237</td>\n",
       "      <td>3240</td>\n",
       "      <td>11.863103</td>\n",
       "    </tr>\n",
       "    <tr>\n",
       "      <td>3238</td>\n",
       "      <td>3241</td>\n",
       "      <td>12.680959</td>\n",
       "    </tr>\n",
       "  </tbody>\n",
       "</table>\n",
       "</div>"
      ],
      "text/plain": [
       "       key      Газ 1\n",
       "3234  3237   5.543905\n",
       "3235  3238   6.745669\n",
       "3236  3239  16.023518\n",
       "3237  3240  11.863103\n",
       "3238  3241  12.680959"
      ]
     },
     "execution_count": 12,
     "metadata": {},
     "output_type": "execute_result"
    }
   ],
   "source": [
    "dfs['data_gas'].tail()"
   ]
  },
  {
   "cell_type": "code",
   "execution_count": 13,
   "metadata": {},
   "outputs": [
    {
     "data": {
      "image/png": "[encoded data removed]",
      "text/plain": [
       "<Figure size 1224x360 with 1 Axes>"
      ]
     },
     "metadata": {
      "needs_background": "light"
     },
     "output_type": "display_data"
    }
   ],
   "source": [
    "dfs['data_gas'].columns = ['key', 'gas_amount']\n",
    "dfs['data_gas']['gas_amount'].hist(bins=100, figsize=(17,5))\n",
    "plt.show()"
   ]
  },
  {
   "cell_type": "markdown",
   "metadata": {},
   "source": [
    "#### Предварительные выводы:\n",
    "\n",
    "- Пропуски с точки зрения таблицы - отсутствуют, но отстутсвуют данные о продувке газом двух партий (259 и 193);\n",
    "- Всё остальное выглядит вполне хорошо (кроме названия столбцов)"
   ]
  },
  {
   "cell_type": "markdown",
   "metadata": {},
   "source": [
    "#### Обработка\n",
    "\n",
    "При исследовании обнаружено, что отсутствуют данные о партиях 193 и 259, добавим таковые с заполненеим медианным значением:"
   ]
  },
  {
   "cell_type": "code",
   "execution_count": 14,
   "metadata": {},
   "outputs": [],
   "source": [
    "gas_median = dfs['data_gas']['gas_amount'].median()\n",
    "\n",
    "final_dfs['gas'] = dfs['data_gas'].append(\n",
    "    pd.DataFrame(dict(key=[193, 259], gas_amount=[gas_median, gas_median])),\n",
    "    ignore_index=True).sort_values('key').set_index('key').copy()"
   ]
  },
  {
   "cell_type": "code",
   "execution_count": 15,
   "metadata": {},
   "outputs": [
    {
     "data": {
      "text/html": [
       "<div>\n",
       "<style scoped>\n",
       "    .dataframe tbody tr th:only-of-type {\n",
       "        vertical-align: middle;\n",
       "    }\n",
       "\n",
       "    .dataframe tbody tr th {\n",
       "        vertical-align: top;\n",
       "    }\n",
       "\n",
       "    .dataframe thead th {\n",
       "        text-align: right;\n",
       "    }\n",
       "</style>\n",
       "<table border=\"1\" class=\"dataframe\">\n",
       "  <thead>\n",
       "    <tr style=\"text-align: right;\">\n",
       "      <th></th>\n",
       "      <th>gas_amount</th>\n",
       "    </tr>\n",
       "    <tr>\n",
       "      <th>key</th>\n",
       "      <th></th>\n",
       "    </tr>\n",
       "  </thead>\n",
       "  <tbody>\n",
       "    <tr>\n",
       "      <td>1</td>\n",
       "      <td>29.749986</td>\n",
       "    </tr>\n",
       "    <tr>\n",
       "      <td>2</td>\n",
       "      <td>12.555561</td>\n",
       "    </tr>\n",
       "    <tr>\n",
       "      <td>3</td>\n",
       "      <td>28.554793</td>\n",
       "    </tr>\n",
       "    <tr>\n",
       "      <td>4</td>\n",
       "      <td>18.841219</td>\n",
       "    </tr>\n",
       "    <tr>\n",
       "      <td>5</td>\n",
       "      <td>5.413692</td>\n",
       "    </tr>\n",
       "  </tbody>\n",
       "</table>\n",
       "</div>"
      ],
      "text/plain": [
       "     gas_amount\n",
       "key            \n",
       "1     29.749986\n",
       "2     12.555561\n",
       "3     28.554793\n",
       "4     18.841219\n",
       "5      5.413692"
      ]
     },
     "execution_count": 15,
     "metadata": {},
     "output_type": "execute_result"
    }
   ],
   "source": [
    "final_dfs['gas'].head()"
   ]
  },
  {
   "cell_type": "markdown",
   "metadata": {},
   "source": [
    "### data_temp.csv"
   ]
  },
  {
   "cell_type": "markdown",
   "metadata": {},
   "source": [
    "Данные в этой таблице являются как признаками, необходимыми для моделирования (начальная температура партии), так и искомым признаком (конечная температура), в связи с этим - необходимо выделить эти данные:"
   ]
  },
  {
   "cell_type": "code",
   "execution_count": 16,
   "metadata": {},
   "outputs": [
    {
     "data": {
      "text/html": [
       "<div>\n",
       "<style scoped>\n",
       "    .dataframe tbody tr th:only-of-type {\n",
       "        vertical-align: middle;\n",
       "    }\n",
       "\n",
       "    .dataframe tbody tr th {\n",
       "        vertical-align: top;\n",
       "    }\n",
       "\n",
       "    .dataframe thead th {\n",
       "        text-align: right;\n",
       "    }\n",
       "</style>\n",
       "<table border=\"1\" class=\"dataframe\">\n",
       "  <thead>\n",
       "    <tr style=\"text-align: right;\">\n",
       "      <th></th>\n",
       "      <th>key</th>\n",
       "      <th>Время замера</th>\n",
       "      <th>Температура</th>\n",
       "    </tr>\n",
       "  </thead>\n",
       "  <tbody>\n",
       "    <tr>\n",
       "      <td>0</td>\n",
       "      <td>1</td>\n",
       "      <td>2019-05-03 11:16:18</td>\n",
       "      <td>1571.0</td>\n",
       "    </tr>\n",
       "    <tr>\n",
       "      <td>1</td>\n",
       "      <td>1</td>\n",
       "      <td>2019-05-03 11:25:53</td>\n",
       "      <td>1604.0</td>\n",
       "    </tr>\n",
       "  </tbody>\n",
       "</table>\n",
       "</div>"
      ],
      "text/plain": [
       "   key         Время замера  Температура\n",
       "0    1  2019-05-03 11:16:18       1571.0\n",
       "1    1  2019-05-03 11:25:53       1604.0"
      ]
     },
     "execution_count": 16,
     "metadata": {},
     "output_type": "execute_result"
    }
   ],
   "source": [
    "dfs['data_temp'].head(2)"
   ]
  },
  {
   "cell_type": "markdown",
   "metadata": {},
   "source": [
    "Выделим партии с отсутствующей частью температур:"
   ]
  },
  {
   "cell_type": "code",
   "execution_count": 17,
   "metadata": {},
   "outputs": [
    {
     "name": "stdout",
     "output_type": "stream",
     "text": [
      "Количество партий с пропусками: 739\n"
     ]
    }
   ],
   "source": [
    "missing_keys = dfs['data_temp'][dfs['data_temp']['Температура'].isna()]['key'].unique()\n",
    "\n",
    "print('Количество партий с пропусками:', len(missing_keys))"
   ]
  },
  {
   "cell_type": "markdown",
   "metadata": {},
   "source": [
    "#### Предварительные выводы:\n",
    "\n",
    "- По постановке задачи является искомым признаком; \n",
    "- Так же есть значения, ниже температуры плавления стали, что по самое задаче (работа с расплавом) физически невозможно, следовательно, рекомендуются к удалению;\n",
    "- Пропусков достаточно много (18% всех данных), заполнение по стандартным стратегиям в данном случае недопустимо, в том числе - эти данные лишены искомого признака (последней температурый), и имеют только начальную, следовательно, можно только предсказать эти значения, но не использовать для моделирования.\n",
    "\n",
    "\n",
    "#### Обработка:\n",
    "\n",
    "Получим необходимые значения температуры при помощи сводной таблицы (начальную температуру `first_temp` и искомую конечную температуру `last_temp`:"
   ]
  },
  {
   "cell_type": "code",
   "execution_count": 18,
   "metadata": {},
   "outputs": [],
   "source": [
    "final_dfs['temp'] = pd.pivot_table(\n",
    "    dfs['data_temp'][~dfs['data_temp']['key'].isin(missing_keys)].sort_values('Время замера'),\n",
    "    values='Температура',\n",
    "    index=['key'],\n",
    "    aggfunc=['first', 'last'])\n",
    "\n",
    "final_dfs['temp'].columns = ['first_temp', 'last_temp']"
   ]
  },
  {
   "cell_type": "markdown",
   "metadata": {},
   "source": [
    "### data_wire.csv и data_wire_time.csv "
   ]
  },
  {
   "cell_type": "code",
   "execution_count": 19,
   "metadata": {},
   "outputs": [
    {
     "data": {
      "text/html": [
       "<div>\n",
       "<style scoped>\n",
       "    .dataframe tbody tr th:only-of-type {\n",
       "        vertical-align: middle;\n",
       "    }\n",
       "\n",
       "    .dataframe tbody tr th {\n",
       "        vertical-align: top;\n",
       "    }\n",
       "\n",
       "    .dataframe thead th {\n",
       "        text-align: right;\n",
       "    }\n",
       "</style>\n",
       "<table border=\"1\" class=\"dataframe\">\n",
       "  <thead>\n",
       "    <tr style=\"text-align: right;\">\n",
       "      <th></th>\n",
       "      <th>key</th>\n",
       "      <th>Wire 1</th>\n",
       "      <th>Wire 2</th>\n",
       "      <th>Wire 3</th>\n",
       "      <th>Wire 4</th>\n",
       "      <th>Wire 5</th>\n",
       "      <th>Wire 6</th>\n",
       "      <th>Wire 7</th>\n",
       "      <th>Wire 8</th>\n",
       "      <th>Wire 9</th>\n",
       "    </tr>\n",
       "  </thead>\n",
       "  <tbody>\n",
       "    <tr>\n",
       "      <td>0</td>\n",
       "      <td>1</td>\n",
       "      <td>60.059998</td>\n",
       "      <td>NaN</td>\n",
       "      <td>NaN</td>\n",
       "      <td>NaN</td>\n",
       "      <td>NaN</td>\n",
       "      <td>NaN</td>\n",
       "      <td>NaN</td>\n",
       "      <td>NaN</td>\n",
       "      <td>NaN</td>\n",
       "    </tr>\n",
       "    <tr>\n",
       "      <td>1</td>\n",
       "      <td>2</td>\n",
       "      <td>96.052315</td>\n",
       "      <td>NaN</td>\n",
       "      <td>NaN</td>\n",
       "      <td>NaN</td>\n",
       "      <td>NaN</td>\n",
       "      <td>NaN</td>\n",
       "      <td>NaN</td>\n",
       "      <td>NaN</td>\n",
       "      <td>NaN</td>\n",
       "    </tr>\n",
       "    <tr>\n",
       "      <td>2</td>\n",
       "      <td>3</td>\n",
       "      <td>91.160157</td>\n",
       "      <td>NaN</td>\n",
       "      <td>NaN</td>\n",
       "      <td>NaN</td>\n",
       "      <td>NaN</td>\n",
       "      <td>NaN</td>\n",
       "      <td>NaN</td>\n",
       "      <td>NaN</td>\n",
       "      <td>NaN</td>\n",
       "    </tr>\n",
       "  </tbody>\n",
       "</table>\n",
       "</div>"
      ],
      "text/plain": [
       "   key     Wire 1  Wire 2  Wire 3  Wire 4  Wire 5  Wire 6  Wire 7  Wire 8  \\\n",
       "0    1  60.059998     NaN     NaN     NaN     NaN     NaN     NaN     NaN   \n",
       "1    2  96.052315     NaN     NaN     NaN     NaN     NaN     NaN     NaN   \n",
       "2    3  91.160157     NaN     NaN     NaN     NaN     NaN     NaN     NaN   \n",
       "\n",
       "   Wire 9  \n",
       "0     NaN  \n",
       "1     NaN  \n",
       "2     NaN  "
      ]
     },
     "execution_count": 19,
     "metadata": {},
     "output_type": "execute_result"
    }
   ],
   "source": [
    "dfs['data_wire'].head(3)"
   ]
  },
  {
   "cell_type": "markdown",
   "metadata": {},
   "source": [
    "#### Предварительные выводы:\n",
    "\n",
    "- Данные таблицы являются парными, с полным соответствием столбцов и строк, с разницей только в сущности данных (аналогично `data_bulk`;\n",
    "- Количество пропусков - огромно, и не позволяет их отбросить, в связи с этим, необходимо выяснить физический смысл нумерации `Wire 1` - `Wire 9`, предположительно, это разные сорта получаемого проката, выпущеного из каждой партии, следовательно - заменим их на нулевые значения;"
   ]
  },
  {
   "cell_type": "markdown",
   "metadata": {},
   "source": [
    "#### Обработка:\n",
    "\n",
    "Данные о времени выводы партии в рамках анализа не имеют ценности, и могут быть отброшены.\n",
    "\n",
    "Данные о прокате:\n",
    "- пропуски в данных о прокате - заполним нулями;\n",
    "- оставим только столбцы с большим количеством данных."
   ]
  },
  {
   "cell_type": "markdown",
   "metadata": {},
   "source": [
    "Образом, аналогичным с `data_bulk.csv` удалим столбцы, содержащие менее 50 записей"
   ]
  },
  {
   "cell_type": "code",
   "execution_count": 20,
   "metadata": {},
   "outputs": [
    {
     "data": {
      "text/plain": [
       "['Wire 4', 'Wire 5', 'Wire 7', 'Wire 8', 'Wire 9']"
      ]
     },
     "execution_count": 20,
     "metadata": {},
     "output_type": "execute_result"
    }
   ],
   "source": [
    "smol_list = []\n",
    "for col in dfs['data_wire'].columns:\n",
    "    if dfs['data_wire'][~dfs['data_wire'].isna()][col].count() < 50:\n",
    "        smol_list.append(col)\n",
    "        \n",
    "        \n",
    "smol_list"
   ]
  },
  {
   "cell_type": "code",
   "execution_count": 21,
   "metadata": {},
   "outputs": [
    {
     "data": {
      "text/html": [
       "<div>\n",
       "<style scoped>\n",
       "    .dataframe tbody tr th:only-of-type {\n",
       "        vertical-align: middle;\n",
       "    }\n",
       "\n",
       "    .dataframe tbody tr th {\n",
       "        vertical-align: top;\n",
       "    }\n",
       "\n",
       "    .dataframe thead th {\n",
       "        text-align: right;\n",
       "    }\n",
       "</style>\n",
       "<table border=\"1\" class=\"dataframe\">\n",
       "  <thead>\n",
       "    <tr style=\"text-align: right;\">\n",
       "      <th></th>\n",
       "      <th>Wire 1</th>\n",
       "      <th>Wire 2</th>\n",
       "      <th>Wire 3</th>\n",
       "      <th>Wire 6</th>\n",
       "    </tr>\n",
       "    <tr>\n",
       "      <th>key</th>\n",
       "      <th></th>\n",
       "      <th></th>\n",
       "      <th></th>\n",
       "      <th></th>\n",
       "    </tr>\n",
       "  </thead>\n",
       "  <tbody>\n",
       "    <tr>\n",
       "      <td>1</td>\n",
       "      <td>60.059998</td>\n",
       "      <td>0.0</td>\n",
       "      <td>0.0</td>\n",
       "      <td>0.0</td>\n",
       "    </tr>\n",
       "    <tr>\n",
       "      <td>2</td>\n",
       "      <td>96.052315</td>\n",
       "      <td>0.0</td>\n",
       "      <td>0.0</td>\n",
       "      <td>0.0</td>\n",
       "    </tr>\n",
       "  </tbody>\n",
       "</table>\n",
       "</div>"
      ],
      "text/plain": [
       "        Wire 1  Wire 2  Wire 3  Wire 6\n",
       "key                                   \n",
       "1    60.059998     0.0     0.0     0.0\n",
       "2    96.052315     0.0     0.0     0.0"
      ]
     },
     "execution_count": 21,
     "metadata": {},
     "output_type": "execute_result"
    }
   ],
   "source": [
    "final_dfs['wire'] = dfs['data_wire'].drop(smol_list, axis=1).fillna(0).set_index('key').copy()\n",
    "\n",
    "final_dfs['wire'].head(2)"
   ]
  },
  {
   "cell_type": "markdown",
   "metadata": {},
   "source": [
    "## Подготовка выборок"
   ]
  },
  {
   "cell_type": "markdown",
   "metadata": {},
   "source": [
    "Соберём все данные в одну таблицу по столбцу `key` (он же индекс в данном случае)"
   ]
  },
  {
   "cell_type": "code",
   "execution_count": 22,
   "metadata": {},
   "outputs": [],
   "source": [
    "X = pd.concat(final_dfs, axis=1,sort=False).droplevel(0, axis=1).dropna().copy()\n",
    "y = X.pop('last_temp')"
   ]
  },
  {
   "cell_type": "code",
   "execution_count": 23,
   "metadata": {},
   "outputs": [
    {
     "data": {
      "text/html": [
       "<div>\n",
       "<style scoped>\n",
       "    .dataframe tbody tr th:only-of-type {\n",
       "        vertical-align: middle;\n",
       "    }\n",
       "\n",
       "    .dataframe tbody tr th {\n",
       "        vertical-align: top;\n",
       "    }\n",
       "\n",
       "    .dataframe thead th {\n",
       "        text-align: right;\n",
       "    }\n",
       "</style>\n",
       "<table border=\"1\" class=\"dataframe\">\n",
       "  <thead>\n",
       "    <tr style=\"text-align: right;\">\n",
       "      <th></th>\n",
       "      <th>active_power</th>\n",
       "      <th>arc_time</th>\n",
       "      <th>Bulk 1</th>\n",
       "      <th>Bulk 3</th>\n",
       "      <th>Bulk 4</th>\n",
       "      <th>Bulk 6</th>\n",
       "      <th>Bulk 10</th>\n",
       "      <th>Bulk 11</th>\n",
       "      <th>Bulk 12</th>\n",
       "      <th>Bulk 14</th>\n",
       "      <th>Bulk 15</th>\n",
       "      <th>gas_amount</th>\n",
       "      <th>first_temp</th>\n",
       "      <th>Wire 1</th>\n",
       "      <th>Wire 2</th>\n",
       "      <th>Wire 3</th>\n",
       "      <th>Wire 6</th>\n",
       "    </tr>\n",
       "    <tr>\n",
       "      <th>key</th>\n",
       "      <th></th>\n",
       "      <th></th>\n",
       "      <th></th>\n",
       "      <th></th>\n",
       "      <th></th>\n",
       "      <th></th>\n",
       "      <th></th>\n",
       "      <th></th>\n",
       "      <th></th>\n",
       "      <th></th>\n",
       "      <th></th>\n",
       "      <th></th>\n",
       "      <th></th>\n",
       "      <th></th>\n",
       "      <th></th>\n",
       "      <th></th>\n",
       "      <th></th>\n",
       "    </tr>\n",
       "  </thead>\n",
       "  <tbody>\n",
       "    <tr>\n",
       "      <td>1</td>\n",
       "      <td>4.878147</td>\n",
       "      <td>219.60</td>\n",
       "      <td>0.0</td>\n",
       "      <td>0.0</td>\n",
       "      <td>43.0</td>\n",
       "      <td>0.0</td>\n",
       "      <td>0.0</td>\n",
       "      <td>0.0</td>\n",
       "      <td>206.0</td>\n",
       "      <td>150.0</td>\n",
       "      <td>154.0</td>\n",
       "      <td>29.749986</td>\n",
       "      <td>1571.0</td>\n",
       "      <td>60.059998</td>\n",
       "      <td>0.0</td>\n",
       "      <td>0.0</td>\n",
       "      <td>0.0</td>\n",
       "    </tr>\n",
       "    <tr>\n",
       "      <td>2</td>\n",
       "      <td>3.052598</td>\n",
       "      <td>202.75</td>\n",
       "      <td>0.0</td>\n",
       "      <td>0.0</td>\n",
       "      <td>73.0</td>\n",
       "      <td>0.0</td>\n",
       "      <td>0.0</td>\n",
       "      <td>0.0</td>\n",
       "      <td>206.0</td>\n",
       "      <td>149.0</td>\n",
       "      <td>154.0</td>\n",
       "      <td>12.555561</td>\n",
       "      <td>1581.0</td>\n",
       "      <td>96.052315</td>\n",
       "      <td>0.0</td>\n",
       "      <td>0.0</td>\n",
       "      <td>0.0</td>\n",
       "    </tr>\n",
       "  </tbody>\n",
       "</table>\n",
       "</div>"
      ],
      "text/plain": [
       "     active_power  arc_time  Bulk 1  Bulk 3  Bulk 4  Bulk 6  Bulk 10  Bulk 11  \\\n",
       "key                                                                             \n",
       "1        4.878147    219.60     0.0     0.0    43.0     0.0      0.0      0.0   \n",
       "2        3.052598    202.75     0.0     0.0    73.0     0.0      0.0      0.0   \n",
       "\n",
       "     Bulk 12  Bulk 14  Bulk 15  gas_amount  first_temp     Wire 1  Wire 2  \\\n",
       "key                                                                         \n",
       "1      206.0    150.0    154.0   29.749986      1571.0  60.059998     0.0   \n",
       "2      206.0    149.0    154.0   12.555561      1581.0  96.052315     0.0   \n",
       "\n",
       "     Wire 3  Wire 6  \n",
       "key                  \n",
       "1       0.0     0.0  \n",
       "2       0.0     0.0  "
      ]
     },
     "execution_count": 23,
     "metadata": {},
     "output_type": "execute_result"
    }
   ],
   "source": [
    "X.head(2)"
   ]
  },
  {
   "cell_type": "markdown",
   "metadata": {},
   "source": [
    "Определим с помощью коэффициента корреляции Пирсона, показатели, сильно кореллирующие друг с другом:"
   ]
  },
  {
   "cell_type": "code",
   "execution_count": 24,
   "metadata": {},
   "outputs": [],
   "source": [
    "corr_df = pd.DataFrame(X.corr().\\\n",
    "                    unstack().\\\n",
    "                    sort_values(ascending=False).\\\n",
    "                    drop_duplicates()[1:],\n",
    "                    columns=['correlation']\n",
    "                   )\n",
    "corr_df.index.rename(['first_feature', 'second_feature'], inplace=True)"
   ]
  },
  {
   "cell_type": "markdown",
   "metadata": {},
   "source": [
    "Выделим из них только те значения, которые коррелируют максимально, с коэффициентом больше **0,9**"
   ]
  },
  {
   "cell_type": "code",
   "execution_count": 25,
   "metadata": {},
   "outputs": [
    {
     "data": {
      "text/html": [
       "<div>\n",
       "<style scoped>\n",
       "    .dataframe tbody tr th:only-of-type {\n",
       "        vertical-align: middle;\n",
       "    }\n",
       "\n",
       "    .dataframe tbody tr th {\n",
       "        vertical-align: top;\n",
       "    }\n",
       "\n",
       "    .dataframe thead th {\n",
       "        text-align: right;\n",
       "    }\n",
       "</style>\n",
       "<table border=\"1\" class=\"dataframe\">\n",
       "  <thead>\n",
       "    <tr style=\"text-align: right;\">\n",
       "      <th></th>\n",
       "      <th></th>\n",
       "      <th>correlation</th>\n",
       "    </tr>\n",
       "    <tr>\n",
       "      <th>first_feature</th>\n",
       "      <th>second_feature</th>\n",
       "      <th></th>\n",
       "    </tr>\n",
       "  </thead>\n",
       "  <tbody>\n",
       "  </tbody>\n",
       "</table>\n",
       "</div>"
      ],
      "text/plain": [
       "Empty DataFrame\n",
       "Columns: [correlation]\n",
       "Index: []"
      ]
     },
     "execution_count": 25,
     "metadata": {},
     "output_type": "execute_result"
    }
   ],
   "source": [
    "biggest_corr_df = corr_df[corr_df['correlation'] > 0.9].copy()\n",
    "\n",
    "biggest_corr_df"
   ]
  },
  {
   "cell_type": "markdown",
   "metadata": {},
   "source": [
    "Следовательно, отбросим данные столбцы (при наличии):"
   ]
  },
  {
   "cell_type": "code",
   "execution_count": 26,
   "metadata": {},
   "outputs": [],
   "source": [
    "columns_to_drop = biggest_corr_df.reset_index()['second_feature'].to_list()"
   ]
  },
  {
   "cell_type": "code",
   "execution_count": 27,
   "metadata": {},
   "outputs": [
    {
     "name": "stdout",
     "output_type": "stream",
     "text": [
      "Удалено столбцов: 0\n",
      "Удалено строк: 0\n"
     ]
    }
   ],
   "source": [
    "train_size_before = X.shape\n",
    "X.drop(columns=columns_to_drop, axis=1, inplace=True)\n",
    "\n",
    "print('Удалено столбцов:', train_size_before[1] - X.shape[1])\n",
    "print('Удалено строк:', train_size_before[0] - X.shape[0])"
   ]
  },
  {
   "cell_type": "markdown",
   "metadata": {},
   "source": [
    "Разделим выборку на тренировочную и тестовую в соотношении $\\frac{85\\%}{15\\%}$:"
   ]
  },
  {
   "cell_type": "code",
   "execution_count": 28,
   "metadata": {},
   "outputs": [],
   "source": [
    "X_train, X_test, y_train, y_test = train_test_split(X, y, test_size=0.15, random_state=RANDOM_STATE)"
   ]
  },
  {
   "cell_type": "markdown",
   "metadata": {},
   "source": [
    "## Моделирование"
   ]
  },
  {
   "cell_type": "markdown",
   "metadata": {},
   "source": [
    "Результаты работы всех моделей будут собраны в новый DataFrame()"
   ]
  },
  {
   "cell_type": "code",
   "execution_count": 29,
   "metadata": {},
   "outputs": [],
   "source": [
    "results = pd.DataFrame(columns=['MAE', 'fit_time', 'predict_time'])"
   ]
  },
  {
   "cell_type": "markdown",
   "metadata": {},
   "source": [
    "Добавим функцию, заполняющую таблицу с результатами. Измерение времени будет выполняться с использованием datetime.now():"
   ]
  },
  {
   "cell_type": "code",
   "execution_count": 30,
   "metadata": {},
   "outputs": [],
   "source": [
    "def record(model, result_df=results,\n",
    "           X=X_train,\n",
    "           y=y_train,\n",
    "           X_tru=X_test,\n",
    "           y_tru=y_test):\n",
    "    model_name = model.__class__.__name__\n",
    "    \n",
    "    time_start = datetime.now()\n",
    "    model.fit(X, y)\n",
    "    time_mid = datetime.now()\n",
    "    y_pred = model.predict(X_tru)\n",
    "    mae_ = mean_absolute_error(y_tru, y_pred)\n",
    "    time_end = datetime.now()\n",
    "    results.loc[model_name] = [mae_,\n",
    "                               (time_mid - time_start).total_seconds(),\n",
    "                               (time_end - time_mid).total_seconds()]\n",
    "    print(f'Model {model_name}, MAE = {mae_}')\n",
    "    return model, y_pred"
   ]
  },
  {
   "cell_type": "markdown",
   "metadata": {},
   "source": [
    "### DummyRegressor()\n",
    "\n",
    "Первым делом создадим baseline модель `DummyRegressor()`."
   ]
  },
  {
   "cell_type": "code",
   "execution_count": 31,
   "metadata": {},
   "outputs": [
    {
     "name": "stdout",
     "output_type": "stream",
     "text": [
      "Model DummyRegressor, MAE = 8.27645056609216\n"
     ]
    }
   ],
   "source": [
    "dummy_model = DummyRegressor()\n",
    "\n",
    "dummy_model, dummy_pred = record(model=dummy_model)"
   ]
  },
  {
   "cell_type": "markdown",
   "metadata": {},
   "source": [
    "Принятый baseline основанный на модели `DummyRegressor()` с **MAE** равным **8.3**"
   ]
  },
  {
   "cell_type": "markdown",
   "metadata": {},
   "source": [
    "### LinearRegression()\n",
    "\n",
    "Проверим модель линейной регрессии"
   ]
  },
  {
   "cell_type": "code",
   "execution_count": 32,
   "metadata": {},
   "outputs": [
    {
     "name": "stdout",
     "output_type": "stream",
     "text": [
      "Model LinearRegression, MAE = 6.53390741472812\n"
     ]
    }
   ],
   "source": [
    "linear_model = LinearRegression()\n",
    "\n",
    "linear_model, linear_pred = record(model=linear_model)"
   ]
  },
  {
   "cell_type": "markdown",
   "metadata": {},
   "source": [
    "### RandomForestRegressor()\n",
    "\n",
    "Для модели случайного леса в начале необходимо определить наилучшие гиперпараметры с использование GridSearchCV()."
   ]
  },
  {
   "cell_type": "code",
   "execution_count": 33,
   "metadata": {},
   "outputs": [],
   "source": [
    "rfr_clf = RandomForestRegressor()\n",
    "\n",
    "#Подбор гиперпараметров оставлю на фиксированных значениях:\n",
    "rfr_parameters = {'n_estimators': [122], #'n_estimators': range(80, 140, 2),\n",
    "                  'max_depth': [12], #'max_depth': range(9, 15, 1),\n",
    "                  'random_state': [RANDOM_STATE],\n",
    "                  'n_jobs': [-1]\n",
    "                 }"
   ]
  },
  {
   "cell_type": "code",
   "execution_count": 34,
   "metadata": {},
   "outputs": [
    {
     "name": "stdout",
     "output_type": "stream",
     "text": [
      "CPU times: user 6.01 s, sys: 85.9 ms, total: 6.1 s\n",
      "Wall time: 6.16 s\n"
     ]
    },
    {
     "data": {
      "text/plain": [
       "{'max_depth': 12, 'n_estimators': 122, 'n_jobs': -1, 'random_state': 42}"
      ]
     },
     "execution_count": 34,
     "metadata": {},
     "output_type": "execute_result"
    }
   ],
   "source": [
    "%%time\n",
    "grid_rfr = GridSearchCV(rfr_clf,\n",
    "                        rfr_parameters,\n",
    "                        scoring='neg_mean_absolute_error',\n",
    "                        cv=5)\n",
    "grid_rfr.fit(X_train, y_train)\n",
    "grid_rfr.best_params_"
   ]
  },
  {
   "cell_type": "code",
   "execution_count": 35,
   "metadata": {},
   "outputs": [
    {
     "name": "stdout",
     "output_type": "stream",
     "text": [
      "Model RandomForestRegressor, MAE = 5.908282157633168\n"
     ]
    }
   ],
   "source": [
    "rfr_model = RandomForestRegressor(**grid_rfr.best_params_)\n",
    "\n",
    "rfr_model, rfr_pred = record(model=rfr_model)"
   ]
  },
  {
   "cell_type": "markdown",
   "metadata": {},
   "source": [
    "### lightgbm()\n",
    "\n",
    "Один из вариантов градиентного спуска:"
   ]
  },
  {
   "cell_type": "code",
   "execution_count": 36,
   "metadata": {},
   "outputs": [
    {
     "name": "stdout",
     "output_type": "stream",
     "text": [
      "Model LGBMRegressor, MAE = 5.860299435949264\n"
     ]
    }
   ],
   "source": [
    "lgb_model = lgb.LGBMRegressor(\n",
    "    boosting_type='gbdt',\n",
    "    num_leaves=31,\n",
    "    max_depth=-1,\n",
    "    learning_rate=0.05,\n",
    "    n_estimators=100,\n",
    "    random_state=RANDOM_STATE,\n",
    "    n_jobs=-1\n",
    ")\n",
    "\n",
    "lgb_model, lgb_pred = record(model=lgb_model)"
   ]
  },
  {
   "cell_type": "markdown",
   "metadata": {},
   "source": [
    "### CatBoostRegressor()\n",
    "\n",
    "Воспользуемся одним из вариантов реализации градиентного спуска:"
   ]
  },
  {
   "cell_type": "code",
   "execution_count": 37,
   "metadata": {},
   "outputs": [
    {
     "name": "stdout",
     "output_type": "stream",
     "text": [
      "0:\tlearn: 7.9764907\ttotal: 70.5ms\tremaining: 1m 10s\n",
      "50:\tlearn: 6.7000399\ttotal: 4.16s\tremaining: 1m 17s\n",
      "100:\tlearn: 5.8678082\ttotal: 8.41s\tremaining: 1m 14s\n",
      "150:\tlearn: 5.2969591\ttotal: 12.4s\tremaining: 1m 9s\n",
      "200:\tlearn: 4.8744799\ttotal: 16.5s\tremaining: 1m 5s\n",
      "250:\tlearn: 4.5550286\ttotal: 20.6s\tremaining: 1m 1s\n",
      "300:\tlearn: 4.2861517\ttotal: 24.8s\tremaining: 57.7s\n",
      "350:\tlearn: 4.0554457\ttotal: 29s\tremaining: 53.6s\n",
      "400:\tlearn: 3.8696781\ttotal: 33.2s\tremaining: 49.6s\n",
      "450:\tlearn: 3.7046664\ttotal: 37.4s\tremaining: 45.5s\n",
      "500:\tlearn: 3.5690378\ttotal: 41.4s\tremaining: 41.3s\n",
      "550:\tlearn: 3.4412296\ttotal: 45.5s\tremaining: 37.1s\n",
      "600:\tlearn: 3.3137364\ttotal: 49.6s\tremaining: 32.9s\n",
      "650:\tlearn: 3.1993699\ttotal: 53.8s\tremaining: 28.8s\n",
      "700:\tlearn: 3.0951528\ttotal: 57.8s\tremaining: 24.7s\n",
      "750:\tlearn: 2.9845189\ttotal: 1m 1s\tremaining: 20.5s\n",
      "800:\tlearn: 2.8828207\ttotal: 1m 6s\tremaining: 16.4s\n",
      "850:\tlearn: 2.7923808\ttotal: 1m 10s\tremaining: 12.3s\n",
      "900:\tlearn: 2.7078302\ttotal: 1m 14s\tremaining: 8.16s\n",
      "950:\tlearn: 2.6266401\ttotal: 1m 18s\tremaining: 4.03s\n",
      "999:\tlearn: 2.5542794\ttotal: 1m 22s\tremaining: 0us\n",
      "Model CatBoostRegressor, MAE = 5.909537956640291\n"
     ]
    }
   ],
   "source": [
    "cat_model = CatBoostRegressor(learning_rate=0.01,\n",
    "                              depth=10,\n",
    "                              loss_function='MAE',\n",
    "                              random_seed=13,\n",
    "                              verbose=50)\n",
    "\n",
    "cat_model, cat_pred = record(model=cat_model)"
   ]
  },
  {
   "cell_type": "markdown",
   "metadata": {},
   "source": [
    "###  RidgeCV(), ElasticNet()\n",
    "\n",
    "Так же добавим ещё пару моделей для сравнения:"
   ]
  },
  {
   "cell_type": "code",
   "execution_count": 38,
   "metadata": {},
   "outputs": [
    {
     "name": "stdout",
     "output_type": "stream",
     "text": [
      "Model RidgeCV, MAE = 6.533935681954068\n"
     ]
    }
   ],
   "source": [
    "ridge_model = RidgeCV(scoring='neg_mean_absolute_error',\n",
    "                      cv=5)\n",
    "\n",
    "ridge_model, ridge_pred = record(model=ridge_model)"
   ]
  },
  {
   "cell_type": "code",
   "execution_count": 39,
   "metadata": {},
   "outputs": [
    {
     "name": "stdout",
     "output_type": "stream",
     "text": [
      "Model ElasticNet, MAE = 6.8325903815021\n"
     ]
    }
   ],
   "source": [
    "enet_model = ElasticNet()\n",
    "\n",
    "enet_model, enet_pred = record(model=enet_model)"
   ]
  },
  {
   "cell_type": "markdown",
   "metadata": {},
   "source": [
    "## Определение значимости признаков"
   ]
  },
  {
   "cell_type": "code",
   "execution_count": 40,
   "metadata": {},
   "outputs": [],
   "source": [
    "feature_importances = pd.DataFrame(index=X_train.columns.values,\n",
    "                                   data={\n",
    "                                       'RandomForestRegressor': rfr_model.feature_importances_*100,\n",
    "                                       'CatBoostRegressor': cat_model.feature_importances_,\n",
    "                                       'LGBMRegressor': lgb_model.feature_importances_/30})"
   ]
  },
  {
   "cell_type": "code",
   "execution_count": 41,
   "metadata": {},
   "outputs": [
    {
     "data": {
      "image/png": "[encoded data removed]",
      "text/plain": [
       "<Figure size 1224x720 with 1 Axes>"
      ]
     },
     "metadata": {
      "needs_background": "light"
     },
     "output_type": "display_data"
    }
   ],
   "source": [
    "feature_importances.plot(kind='barh',\n",
    "                         figsize=(17,10),\n",
    "                         title='Feature importances',\n",
    "                         width=0.8)\n",
    "plt.show()"
   ]
  },
  {
   "cell_type": "markdown",
   "metadata": {},
   "source": [
    "**Вывод**:\n",
    "\n",
    "Вполне ожидаемыми по уровню влияния являются \"начальная температура\", и \"активная мощность\", чуть менее значимыми являются добавки, и количество получаемого проката."
   ]
  },
  {
   "cell_type": "markdown",
   "metadata": {},
   "source": [
    "## Результаты:"
   ]
  },
  {
   "cell_type": "code",
   "execution_count": 42,
   "metadata": {},
   "outputs": [
    {
     "data": {
      "text/html": [
       "<style  type=\"text/css\" >\n",
       "    #T_67477216_4ced_11ec_ab7a_02420a396f9erow0_col0 {\n",
       "            background-color:  #084081;\n",
       "            color:  #f1f1f1;\n",
       "        }    #T_67477216_4ced_11ec_ab7a_02420a396f9erow0_col1 {\n",
       "            background-color:  #f7fcf0;\n",
       "            color:  #000000;\n",
       "        }    #T_67477216_4ced_11ec_ab7a_02420a396f9erow0_col2 {\n",
       "            background-color:  #f7fcf0;\n",
       "            color:  #000000;\n",
       "        }    #T_67477216_4ced_11ec_ab7a_02420a396f9erow1_col0 {\n",
       "            background-color:  #c4e8c1;\n",
       "            color:  #000000;\n",
       "        }    #T_67477216_4ced_11ec_ab7a_02420a396f9erow1_col1 {\n",
       "            background-color:  #f7fcf0;\n",
       "            color:  #000000;\n",
       "        }    #T_67477216_4ced_11ec_ab7a_02420a396f9erow1_col2 {\n",
       "            background-color:  #e7f6e2;\n",
       "            color:  #000000;\n",
       "        }    #T_67477216_4ced_11ec_ab7a_02420a396f9erow2_col0 {\n",
       "            background-color:  #f3fbed;\n",
       "            color:  #000000;\n",
       "        }    #T_67477216_4ced_11ec_ab7a_02420a396f9erow2_col1 {\n",
       "            background-color:  #f5fbee;\n",
       "            color:  #000000;\n",
       "        }    #T_67477216_4ced_11ec_ab7a_02420a396f9erow2_col2 {\n",
       "            background-color:  #084081;\n",
       "            color:  #f1f1f1;\n",
       "        }    #T_67477216_4ced_11ec_ab7a_02420a396f9erow3_col0 {\n",
       "            background-color:  #f7fcf0;\n",
       "            color:  #000000;\n",
       "        }    #T_67477216_4ced_11ec_ab7a_02420a396f9erow3_col1 {\n",
       "            background-color:  #f3fbed;\n",
       "            color:  #000000;\n",
       "        }    #T_67477216_4ced_11ec_ab7a_02420a396f9erow3_col2 {\n",
       "            background-color:  #91d4bd;\n",
       "            color:  #000000;\n",
       "        }    #T_67477216_4ced_11ec_ab7a_02420a396f9erow4_col0 {\n",
       "            background-color:  #f3fbed;\n",
       "            color:  #000000;\n",
       "        }    #T_67477216_4ced_11ec_ab7a_02420a396f9erow4_col1 {\n",
       "            background-color:  #084081;\n",
       "            color:  #f1f1f1;\n",
       "        }    #T_67477216_4ced_11ec_ab7a_02420a396f9erow4_col2 {\n",
       "            background-color:  #7dcdc3;\n",
       "            color:  #000000;\n",
       "        }    #T_67477216_4ced_11ec_ab7a_02420a396f9erow5_col0 {\n",
       "            background-color:  #c4e8c1;\n",
       "            color:  #000000;\n",
       "        }    #T_67477216_4ced_11ec_ab7a_02420a396f9erow5_col1 {\n",
       "            background-color:  #f6fcef;\n",
       "            color:  #000000;\n",
       "        }    #T_67477216_4ced_11ec_ab7a_02420a396f9erow5_col2 {\n",
       "            background-color:  #e9f6e3;\n",
       "            color:  #000000;\n",
       "        }    #T_67477216_4ced_11ec_ab7a_02420a396f9erow6_col0 {\n",
       "            background-color:  #9ed9b8;\n",
       "            color:  #000000;\n",
       "        }    #T_67477216_4ced_11ec_ab7a_02420a396f9erow6_col1 {\n",
       "            background-color:  #f7fcf0;\n",
       "            color:  #000000;\n",
       "        }    #T_67477216_4ced_11ec_ab7a_02420a396f9erow6_col2 {\n",
       "            background-color:  #e5f5e0;\n",
       "            color:  #000000;\n",
       "        }</style><table id=\"T_67477216_4ced_11ec_ab7a_02420a396f9e\" ><thead>    <tr>        <th class=\"blank level0\" ></th>        <th class=\"col_heading level0 col0\" >MAE</th>        <th class=\"col_heading level0 col1\" >fit_time</th>        <th class=\"col_heading level0 col2\" >predict_time</th>    </tr></thead><tbody>\n",
       "                <tr>\n",
       "                        <th id=\"T_67477216_4ced_11ec_ab7a_02420a396f9elevel0_row0\" class=\"row_heading level0 row0\" >DummyRegressor</th>\n",
       "                        <td id=\"T_67477216_4ced_11ec_ab7a_02420a396f9erow0_col0\" class=\"data row0 col0\" >8.27645</td>\n",
       "                        <td id=\"T_67477216_4ced_11ec_ab7a_02420a396f9erow0_col1\" class=\"data row0 col1\" >0.000471</td>\n",
       "                        <td id=\"T_67477216_4ced_11ec_ab7a_02420a396f9erow0_col2\" class=\"data row0 col2\" >0.000362</td>\n",
       "            </tr>\n",
       "            <tr>\n",
       "                        <th id=\"T_67477216_4ced_11ec_ab7a_02420a396f9elevel0_row1\" class=\"row_heading level0 row1\" >LinearRegression</th>\n",
       "                        <td id=\"T_67477216_4ced_11ec_ab7a_02420a396f9erow1_col0\" class=\"data row1 col0\" >6.53391</td>\n",
       "                        <td id=\"T_67477216_4ced_11ec_ab7a_02420a396f9erow1_col1\" class=\"data row1 col1\" >0.002505</td>\n",
       "                        <td id=\"T_67477216_4ced_11ec_ab7a_02420a396f9erow1_col2\" class=\"data row1 col2\" >0.001399</td>\n",
       "            </tr>\n",
       "            <tr>\n",
       "                        <th id=\"T_67477216_4ced_11ec_ab7a_02420a396f9elevel0_row2\" class=\"row_heading level0 row2\" >RandomForestRegressor</th>\n",
       "                        <td id=\"T_67477216_4ced_11ec_ab7a_02420a396f9erow2_col0\" class=\"data row2 col0\" >5.90828</td>\n",
       "                        <td id=\"T_67477216_4ced_11ec_ab7a_02420a396f9erow2_col1\" class=\"data row2 col1\" >1.11554</td>\n",
       "                        <td id=\"T_67477216_4ced_11ec_ab7a_02420a396f9erow2_col2\" class=\"data row2 col2\" >0.011977</td>\n",
       "            </tr>\n",
       "            <tr>\n",
       "                        <th id=\"T_67477216_4ced_11ec_ab7a_02420a396f9elevel0_row3\" class=\"row_heading level0 row3\" >LGBMRegressor</th>\n",
       "                        <td id=\"T_67477216_4ced_11ec_ab7a_02420a396f9erow3_col0\" class=\"data row3 col0\" >5.8603</td>\n",
       "                        <td id=\"T_67477216_4ced_11ec_ab7a_02420a396f9erow3_col1\" class=\"data row3 col1\" >1.66155</td>\n",
       "                        <td id=\"T_67477216_4ced_11ec_ab7a_02420a396f9erow3_col2\" class=\"data row3 col2\" >0.005448</td>\n",
       "            </tr>\n",
       "            <tr>\n",
       "                        <th id=\"T_67477216_4ced_11ec_ab7a_02420a396f9elevel0_row4\" class=\"row_heading level0 row4\" >CatBoostRegressor</th>\n",
       "                        <td id=\"T_67477216_4ced_11ec_ab7a_02420a396f9erow4_col0\" class=\"data row4 col0\" >5.90954</td>\n",
       "                        <td id=\"T_67477216_4ced_11ec_ab7a_02420a396f9erow4_col1\" class=\"data row4 col1\" >84.8141</td>\n",
       "                        <td id=\"T_67477216_4ced_11ec_ab7a_02420a396f9erow4_col2\" class=\"data row4 col2\" >0.006083</td>\n",
       "            </tr>\n",
       "            <tr>\n",
       "                        <th id=\"T_67477216_4ced_11ec_ab7a_02420a396f9elevel0_row5\" class=\"row_heading level0 row5\" >RidgeCV</th>\n",
       "                        <td id=\"T_67477216_4ced_11ec_ab7a_02420a396f9erow5_col0\" class=\"data row5 col0\" >6.53394</td>\n",
       "                        <td id=\"T_67477216_4ced_11ec_ab7a_02420a396f9erow5_col1\" class=\"data row5 col1\" >0.365437</td>\n",
       "                        <td id=\"T_67477216_4ced_11ec_ab7a_02420a396f9erow5_col2\" class=\"data row5 col2\" >0.00131</td>\n",
       "            </tr>\n",
       "            <tr>\n",
       "                        <th id=\"T_67477216_4ced_11ec_ab7a_02420a396f9elevel0_row6\" class=\"row_heading level0 row6\" >ElasticNet</th>\n",
       "                        <td id=\"T_67477216_4ced_11ec_ab7a_02420a396f9erow6_col0\" class=\"data row6 col0\" >6.83259</td>\n",
       "                        <td id=\"T_67477216_4ced_11ec_ab7a_02420a396f9erow6_col1\" class=\"data row6 col1\" >0.088545</td>\n",
       "                        <td id=\"T_67477216_4ced_11ec_ab7a_02420a396f9erow6_col2\" class=\"data row6 col2\" >0.001541</td>\n",
       "            </tr>\n",
       "    </tbody></table>"
      ],
      "text/plain": [
       "<pandas.io.formats.style.Styler at 0x7f0d3ca430d0>"
      ]
     },
     "execution_count": 42,
     "metadata": {},
     "output_type": "execute_result"
    }
   ],
   "source": [
    "results.style.background_gradient(cmap='GnBu')"
   ]
  },
  {
   "cell_type": "markdown",
   "metadata": {},
   "source": [
    "Все модели проходят проверку на адекватность, но наилучший вариант - `LightGBM`, с результатом метрики **MAE = 5.86**, сопоставимый результат получается и на классическом случайном лесе `RandomForestRegressor` с результатом MAE = 5.9.\n",
    "\n",
    "`CatBoost` даёт аналогичный результат, но с намного большими затратами времени."
   ]
  },
  {
   "cell_type": "markdown",
   "metadata": {},
   "source": [
    "## Отчёт"
   ]
  },
  {
   "cell_type": "markdown",
   "metadata": {},
   "source": [
    "### Принятый план:\n",
    "\n",
    "В рамках предварительного осмотра данных был составлен план работ по решению задачи, в т.ч.:\n",
    "- Получить ответы на уточняющие вопросы по сущности некоторых данных;\n",
    "- Произвести **предобработку данных**:\n",
    "  - определится со стратегией работы с пропусками и применить её;\n",
    "  - увязать данные в единую таблицу признаков (по времени и номеру партии);\n",
    "- Выполнить **моделирование**:\n",
    "  - Принять baseline для оценки моделей на адекватность;\n",
    "  - Проверить несколько моделей машинного обучения для выбора наилучшей/оптимальной.\n",
    "  \n",
    ", в соответствии с которым и была проведена работа."
   ]
  },
  {
   "cell_type": "markdown",
   "metadata": {},
   "source": [
    "### Предобработка данных:\n",
    "\n",
    "Данные состоят из файлов, полученных из разных источников:\n",
    "\n",
    "- `data_arc.csv` — данные об электродах;\n",
    "- `data_bulk.csv` — данные о подаче сыпучих материалов (объём);\n",
    "- `data_bulk_time.csv` — данные о подаче сыпучих материалов (время);\n",
    "- `data_gas.csv` — данные о продувке сплава газом;\n",
    "- `data_temp.csv` — результаты измерения температуры;\n",
    "- `data_wire.csv` — данные о проволочных материалах (объём);\n",
    "- `data_wire_time.csv` — данные о проволочных материалах (время).\n",
    "\n",
    "Во всех файлах столбец `key` содержит номер партии. В файлах может быть несколько строк с одинаковым значением `key`: они соответствуют разным итерациям обработки."
   ]
  },
  {
   "cell_type": "markdown",
   "metadata": {},
   "source": [
    "---\n",
    "\n",
    "**`data_arc.csv` — данные об электродах.**\n",
    "- Данные не имеют пропусков, кроме единичного выброса в столбце \"Реактивная мощность\";\n",
    "- Принятые шаги:\n",
    "  - Введён новый признак, характеризующий время нагрева дугой, т.е. разность между концом и началом нагрева дуги;\n",
    "  - С учётом прямой физической зависимости активной и реактивной мощностей, и характером их распределения, оставлена только действующая часть (суммарная \"Активная мощность\" партии)\n",
    "\n",
    "---\n",
    "\n",
    "**`data_bulk.csv`/`data_bulk_time.csv` — данные о подаче сыпучих материалов (объём/время).**\n",
    "- Данные таблицы являются парными, с полным соответствием столбцов и строк, с разницей только в сущности данных;\n",
    "- Данные о времени внесения добавок в рамках данного анализа не имеют ценности, и могут быть отброшены;\n",
    "- Некоторые из добавок встречаются слишком редко в рамках набора данных, для снижения негативного влияния на результат - оставим только столбцы с большим количеством данных (больше 100 записей);\n",
    "- Все оставшиеся пропуски в данных о добавках - заполним нулями.\n",
    "\n",
    "---\n",
    "\n",
    "**`data_gas.csv` — данные о продувке сплава газом.**\n",
    "- При исследовании обнаружено, что отсутствуют данные о партиях 193 и 259, добавим таковые с заполнением медианным значением:\n",
    "\n",
    "---\n",
    "\n",
    "**`data_temp.csv` — результаты измерения температуры.**\n",
    "- Данные в этой таблице являются как признаками, необходимыми для моделирования (начальная температура партии), так и искомым признаком (конечная температура), в связи с этим - необходимо выделить эти данные при помощи сводной таблицы (начальную температуру `first_temp` и искомую конечную температуру `last_temp`);\n",
    "- Наличествуют значения начальной температуры ниже температуры плавления стали (1520°C), что по самой формулировке задачи (работа с расплавом) физически невозможно, предположительно - ошибка замера;\n",
    "- Пропусков достаточно много (18% всех данных), заполнение по стандартным стратегиям в данном случае недопустимо, в том числе - эти данные лишены искомого признака (последней температурый), и имеют только начальную, следовательно, можно только предсказать эти значения, но не использовать для моделирования, следовательно - подлежат удалению.\n",
    "\n",
    "---\n",
    "\n",
    "**`data_wire.csv`/`data_wire_time.csv` — данные о проволочных материалах (объём/время).**\n",
    "- Данные таблицы являются парными, с полным соответствием столбцов и строк, с разницей только в сущности данных;\n",
    "- Данные о времени вывода проката в рамках данного анализа не имеют ценности, и могут быть отброшены;\n",
    "- Некоторые из сортов проката встречаются слишком редко в рамках набора данных, для снижения негативного влияния на результат - оставим только столбцы с большим количеством данных (больше 50 записей);\n",
    "- Все оставшиеся пропуски в данных о прокате - заполним нулями."
   ]
  },
  {
   "cell_type": "markdown",
   "metadata": {},
   "source": [
    "**Результат:**\n",
    "\n",
    "Все данные были предобработаны и соединены в одну общую таблицу признаков по столбцу `key` с номером партии с последующим выделением искомого признака (конечная температура `last_temp`) в отдельную переменную.\n",
    "\n",
    "Полученная таблица также была проверена на мультиколлинеарность, для очистки от столбцов со значением коэффициента корреляции Пирсона больше 0.9."
   ]
  },
  {
   "cell_type": "markdown",
   "metadata": {},
   "source": [
    "### Моделирование:"
   ]
  },
  {
   "cell_type": "markdown",
   "metadata": {},
   "source": [
    "В рамках поставленной задачи, целевой метрикой является **MAE** (Mean Absolute Error, средняя абсолютная ошибка (англ.)), вычисляемое по формуле:\n",
    "$$MAE = \\frac{1}{N_{samples}}\\sum_{i=0}^{N_{samples}-1}\\left | y_{i} - \\hat{y_{i}} \\right |$$\n",
    "\n",
    "реализованное в библиотеке `sklearn.metrics.mean_absolute_error`"
   ]
  },
  {
   "cell_type": "markdown",
   "metadata": {},
   "source": [
    "Для оценки моделей на адекватность была принята baseline модель `DummyRegressor()` из библиотеки `scikit-learn` с **MAE** равным **8.3**"
   ]
  },
  {
   "cell_type": "markdown",
   "metadata": {},
   "source": [
    "Также для выбора наилучшей/оптимальной модели было проверено ещё несколько моделей машинного обучения:\n",
    "\n",
    "- Модель линейной регрессии `LinearRegression()` из библиотеки scikit-learn;\n",
    "- Модель случайного леса `RandomForestRegressor()` из библиотеки scikit-learn с определением оптимальных гиперпараметров при помощи `GridSearchCV()`;\n",
    "- Линейные модели `RidgeCV()`, `ElasticNet()` оттуда же;\n",
    "- Модель градиентного бустинга `LightGBM` от Microsoft;\n",
    "- Модель градиентного бустинга `CatBoost` от Яндекс."
   ]
  },
  {
   "cell_type": "markdown",
   "metadata": {},
   "source": [
    "Общие результаты по всем моделям приведены ниже, в виде таблицы:"
   ]
  },
  {
   "cell_type": "code",
   "execution_count": 43,
   "metadata": {},
   "outputs": [
    {
     "data": {
      "text/html": [
       "<style  type=\"text/css\" >\n",
       "    #T_674ab5b6_4ced_11ec_ab7a_02420a396f9erow0_col0 {\n",
       "            background-color:  #084081;\n",
       "            color:  #f1f1f1;\n",
       "        }    #T_674ab5b6_4ced_11ec_ab7a_02420a396f9erow0_col1 {\n",
       "            background-color:  #f7fcf0;\n",
       "            color:  #000000;\n",
       "        }    #T_674ab5b6_4ced_11ec_ab7a_02420a396f9erow0_col2 {\n",
       "            background-color:  #f7fcf0;\n",
       "            color:  #000000;\n",
       "        }    #T_674ab5b6_4ced_11ec_ab7a_02420a396f9erow1_col0 {\n",
       "            background-color:  #c4e8c1;\n",
       "            color:  #000000;\n",
       "        }    #T_674ab5b6_4ced_11ec_ab7a_02420a396f9erow1_col1 {\n",
       "            background-color:  #f7fcf0;\n",
       "            color:  #000000;\n",
       "        }    #T_674ab5b6_4ced_11ec_ab7a_02420a396f9erow1_col2 {\n",
       "            background-color:  #e7f6e2;\n",
       "            color:  #000000;\n",
       "        }    #T_674ab5b6_4ced_11ec_ab7a_02420a396f9erow2_col0 {\n",
       "            background-color:  #f3fbed;\n",
       "            color:  #000000;\n",
       "        }    #T_674ab5b6_4ced_11ec_ab7a_02420a396f9erow2_col1 {\n",
       "            background-color:  #f5fbee;\n",
       "            color:  #000000;\n",
       "        }    #T_674ab5b6_4ced_11ec_ab7a_02420a396f9erow2_col2 {\n",
       "            background-color:  #084081;\n",
       "            color:  #f1f1f1;\n",
       "        }    #T_674ab5b6_4ced_11ec_ab7a_02420a396f9erow3_col0 {\n",
       "            background-color:  #f7fcf0;\n",
       "            color:  #000000;\n",
       "        }    #T_674ab5b6_4ced_11ec_ab7a_02420a396f9erow3_col1 {\n",
       "            background-color:  #f3fbed;\n",
       "            color:  #000000;\n",
       "        }    #T_674ab5b6_4ced_11ec_ab7a_02420a396f9erow3_col2 {\n",
       "            background-color:  #91d4bd;\n",
       "            color:  #000000;\n",
       "        }    #T_674ab5b6_4ced_11ec_ab7a_02420a396f9erow4_col0 {\n",
       "            background-color:  #f3fbed;\n",
       "            color:  #000000;\n",
       "        }    #T_674ab5b6_4ced_11ec_ab7a_02420a396f9erow4_col1 {\n",
       "            background-color:  #084081;\n",
       "            color:  #f1f1f1;\n",
       "        }    #T_674ab5b6_4ced_11ec_ab7a_02420a396f9erow4_col2 {\n",
       "            background-color:  #7dcdc3;\n",
       "            color:  #000000;\n",
       "        }    #T_674ab5b6_4ced_11ec_ab7a_02420a396f9erow5_col0 {\n",
       "            background-color:  #c4e8c1;\n",
       "            color:  #000000;\n",
       "        }    #T_674ab5b6_4ced_11ec_ab7a_02420a396f9erow5_col1 {\n",
       "            background-color:  #f6fcef;\n",
       "            color:  #000000;\n",
       "        }    #T_674ab5b6_4ced_11ec_ab7a_02420a396f9erow5_col2 {\n",
       "            background-color:  #e9f6e3;\n",
       "            color:  #000000;\n",
       "        }    #T_674ab5b6_4ced_11ec_ab7a_02420a396f9erow6_col0 {\n",
       "            background-color:  #9ed9b8;\n",
       "            color:  #000000;\n",
       "        }    #T_674ab5b6_4ced_11ec_ab7a_02420a396f9erow6_col1 {\n",
       "            background-color:  #f7fcf0;\n",
       "            color:  #000000;\n",
       "        }    #T_674ab5b6_4ced_11ec_ab7a_02420a396f9erow6_col2 {\n",
       "            background-color:  #e5f5e0;\n",
       "            color:  #000000;\n",
       "        }</style><table id=\"T_674ab5b6_4ced_11ec_ab7a_02420a396f9e\" ><thead>    <tr>        <th class=\"blank level0\" ></th>        <th class=\"col_heading level0 col0\" >MAE</th>        <th class=\"col_heading level0 col1\" >fit_time</th>        <th class=\"col_heading level0 col2\" >predict_time</th>    </tr></thead><tbody>\n",
       "                <tr>\n",
       "                        <th id=\"T_674ab5b6_4ced_11ec_ab7a_02420a396f9elevel0_row0\" class=\"row_heading level0 row0\" >DummyRegressor</th>\n",
       "                        <td id=\"T_674ab5b6_4ced_11ec_ab7a_02420a396f9erow0_col0\" class=\"data row0 col0\" >8.27645</td>\n",
       "                        <td id=\"T_674ab5b6_4ced_11ec_ab7a_02420a396f9erow0_col1\" class=\"data row0 col1\" >0.000471</td>\n",
       "                        <td id=\"T_674ab5b6_4ced_11ec_ab7a_02420a396f9erow0_col2\" class=\"data row0 col2\" >0.000362</td>\n",
       "            </tr>\n",
       "            <tr>\n",
       "                        <th id=\"T_674ab5b6_4ced_11ec_ab7a_02420a396f9elevel0_row1\" class=\"row_heading level0 row1\" >LinearRegression</th>\n",
       "                        <td id=\"T_674ab5b6_4ced_11ec_ab7a_02420a396f9erow1_col0\" class=\"data row1 col0\" >6.53391</td>\n",
       "                        <td id=\"T_674ab5b6_4ced_11ec_ab7a_02420a396f9erow1_col1\" class=\"data row1 col1\" >0.002505</td>\n",
       "                        <td id=\"T_674ab5b6_4ced_11ec_ab7a_02420a396f9erow1_col2\" class=\"data row1 col2\" >0.001399</td>\n",
       "            </tr>\n",
       "            <tr>\n",
       "                        <th id=\"T_674ab5b6_4ced_11ec_ab7a_02420a396f9elevel0_row2\" class=\"row_heading level0 row2\" >RandomForestRegressor</th>\n",
       "                        <td id=\"T_674ab5b6_4ced_11ec_ab7a_02420a396f9erow2_col0\" class=\"data row2 col0\" >5.90828</td>\n",
       "                        <td id=\"T_674ab5b6_4ced_11ec_ab7a_02420a396f9erow2_col1\" class=\"data row2 col1\" >1.11554</td>\n",
       "                        <td id=\"T_674ab5b6_4ced_11ec_ab7a_02420a396f9erow2_col2\" class=\"data row2 col2\" >0.011977</td>\n",
       "            </tr>\n",
       "            <tr>\n",
       "                        <th id=\"T_674ab5b6_4ced_11ec_ab7a_02420a396f9elevel0_row3\" class=\"row_heading level0 row3\" >LGBMRegressor</th>\n",
       "                        <td id=\"T_674ab5b6_4ced_11ec_ab7a_02420a396f9erow3_col0\" class=\"data row3 col0\" >5.8603</td>\n",
       "                        <td id=\"T_674ab5b6_4ced_11ec_ab7a_02420a396f9erow3_col1\" class=\"data row3 col1\" >1.66155</td>\n",
       "                        <td id=\"T_674ab5b6_4ced_11ec_ab7a_02420a396f9erow3_col2\" class=\"data row3 col2\" >0.005448</td>\n",
       "            </tr>\n",
       "            <tr>\n",
       "                        <th id=\"T_674ab5b6_4ced_11ec_ab7a_02420a396f9elevel0_row4\" class=\"row_heading level0 row4\" >CatBoostRegressor</th>\n",
       "                        <td id=\"T_674ab5b6_4ced_11ec_ab7a_02420a396f9erow4_col0\" class=\"data row4 col0\" >5.90954</td>\n",
       "                        <td id=\"T_674ab5b6_4ced_11ec_ab7a_02420a396f9erow4_col1\" class=\"data row4 col1\" >84.8141</td>\n",
       "                        <td id=\"T_674ab5b6_4ced_11ec_ab7a_02420a396f9erow4_col2\" class=\"data row4 col2\" >0.006083</td>\n",
       "            </tr>\n",
       "            <tr>\n",
       "                        <th id=\"T_674ab5b6_4ced_11ec_ab7a_02420a396f9elevel0_row5\" class=\"row_heading level0 row5\" >RidgeCV</th>\n",
       "                        <td id=\"T_674ab5b6_4ced_11ec_ab7a_02420a396f9erow5_col0\" class=\"data row5 col0\" >6.53394</td>\n",
       "                        <td id=\"T_674ab5b6_4ced_11ec_ab7a_02420a396f9erow5_col1\" class=\"data row5 col1\" >0.365437</td>\n",
       "                        <td id=\"T_674ab5b6_4ced_11ec_ab7a_02420a396f9erow5_col2\" class=\"data row5 col2\" >0.00131</td>\n",
       "            </tr>\n",
       "            <tr>\n",
       "                        <th id=\"T_674ab5b6_4ced_11ec_ab7a_02420a396f9elevel0_row6\" class=\"row_heading level0 row6\" >ElasticNet</th>\n",
       "                        <td id=\"T_674ab5b6_4ced_11ec_ab7a_02420a396f9erow6_col0\" class=\"data row6 col0\" >6.83259</td>\n",
       "                        <td id=\"T_674ab5b6_4ced_11ec_ab7a_02420a396f9erow6_col1\" class=\"data row6 col1\" >0.088545</td>\n",
       "                        <td id=\"T_674ab5b6_4ced_11ec_ab7a_02420a396f9erow6_col2\" class=\"data row6 col2\" >0.001541</td>\n",
       "            </tr>\n",
       "    </tbody></table>"
      ],
      "text/plain": [
       "<pandas.io.formats.style.Styler at 0x7f0d3631edd0>"
      ]
     },
     "execution_count": 43,
     "metadata": {},
     "output_type": "execute_result"
    }
   ],
   "source": [
    "results.style.background_gradient(cmap='GnBu')"
   ]
  },
  {
   "cell_type": "markdown",
   "metadata": {},
   "source": [
    "Все модели проходят проверку на адекватность, но наилучший результат как по метрике, так и по скорости работы показала модель градиентного бустинга **`LightGBM`**, с результатом **MAE** равным **5.86**, сопоставимый результат получается и на классическом случайном лесе `RandomForestRegressor` с результатом MAE = 5.9.\n",
    "\n",
    "`CatBoost` даёт аналогичный результат, но с намного большими затратами времени."
   ]
  },
  {
   "cell_type": "markdown",
   "metadata": {},
   "source": [
    "При ***анализе значимости признаков*** было определено, что наиболее значимыми признаками являются \"**начальная температура**\", и \"**активная мощность**\", чуть менее значимыми являются добавки, количество получаемого проката и время работы электрической дуги."
   ]
  },
  {
   "cell_type": "markdown",
   "metadata": {},
   "source": [
    "### Финальный вывод:"
   ]
  },
  {
   "cell_type": "markdown",
   "metadata": {},
   "source": [
    "В соответствии с принятым предварительным планом работ была выполнена преобработка данных с последующим моделированием, оптимальная модель, подходящая для дальнейшего применения - модель градиентного бустинга `LightGBM` с показателем метрики **MAE=5.86**.\n",
    "\n",
    "Наиболее значимые параметры - **начальная температура** и **активная мощность**, но в связи с тем, что изначально поставленная задача была сформулирована как \"*снизить энергопотребление*\", то оптимальным решением с точки зрения техпроцесса является обеспечение более высокой/близкой к требуемой температуры в начале этапа обработки, т.е. проверки предшествующего щага технологии производства для снижения утечки тепла, влияющей на температуру расплава (условно - \"теплоизоляция\")."
   ]
  }
 ],
 "metadata": {
  "ExecuteTimeLog": [
   {
    "duration": 1002,
    "start_time": "2021-11-18T06:54:14.240Z"
   },
   {
    "duration": 5,
    "start_time": "2021-11-18T06:54:21.936Z"
   },
   {
    "duration": 229,
    "start_time": "2021-11-18T06:54:51.160Z"
   },
   {
    "duration": 908,
    "start_time": "2021-11-18T06:58:40.859Z"
   },
   {
    "duration": 3,
    "start_time": "2021-11-18T06:58:41.770Z"
   },
   {
    "duration": 334,
    "start_time": "2021-11-18T06:58:41.777Z"
   },
   {
    "duration": 15,
    "start_time": "2021-11-18T06:58:42.114Z"
   },
   {
    "duration": 19,
    "start_time": "2021-11-18T06:58:42.132Z"
   },
   {
    "duration": 33,
    "start_time": "2021-11-18T06:58:42.153Z"
   },
   {
    "duration": 1058,
    "start_time": "2021-11-18T06:58:42.188Z"
   },
   {
    "duration": 12,
    "start_time": "2021-11-18T06:58:43.248Z"
   },
   {
    "duration": 27,
    "start_time": "2021-11-18T06:58:43.264Z"
   },
   {
    "duration": 26,
    "start_time": "2021-11-18T06:58:43.293Z"
   },
   {
    "duration": 27,
    "start_time": "2021-11-18T06:58:43.321Z"
   },
   {
    "duration": 118,
    "start_time": "2021-11-18T06:58:43.350Z"
   },
   {
    "duration": 13,
    "start_time": "2021-11-18T06:58:43.470Z"
   },
   {
    "duration": 633,
    "start_time": "2021-11-18T06:58:43.485Z"
   },
   {
    "duration": 10,
    "start_time": "2021-11-18T06:58:44.120Z"
   },
   {
    "duration": 613,
    "start_time": "2021-11-18T06:58:44.133Z"
   },
   {
    "duration": 8,
    "start_time": "2021-11-18T06:58:44.748Z"
   },
   {
    "duration": 31,
    "start_time": "2021-11-18T06:58:44.758Z"
   },
   {
    "duration": 14,
    "start_time": "2021-11-18T06:58:44.792Z"
   },
   {
    "duration": 9,
    "start_time": "2021-11-18T06:58:44.809Z"
   },
   {
    "duration": 16,
    "start_time": "2021-11-18T06:58:44.820Z"
   },
   {
    "duration": 52,
    "start_time": "2021-11-18T06:58:44.838Z"
   },
   {
    "duration": 32,
    "start_time": "2021-11-18T06:58:44.893Z"
   },
   {
    "duration": 2490,
    "start_time": "2021-11-18T07:04:36.335Z"
   },
   {
    "duration": 13,
    "start_time": "2021-11-18T07:04:55.611Z"
   },
   {
    "duration": 7,
    "start_time": "2021-11-18T07:05:05.353Z"
   },
   {
    "duration": 8,
    "start_time": "2021-11-18T07:05:11.184Z"
   },
   {
    "duration": 11,
    "start_time": "2021-11-18T07:05:44.696Z"
   },
   {
    "duration": 97,
    "start_time": "2021-11-18T07:05:49.261Z"
   },
   {
    "duration": 120,
    "start_time": "2021-11-18T07:05:52.384Z"
   },
   {
    "duration": 100,
    "start_time": "2021-11-18T07:06:00.509Z"
   },
   {
    "duration": 110,
    "start_time": "2021-11-18T07:06:03.822Z"
   },
   {
    "duration": 157,
    "start_time": "2021-11-18T07:06:07.100Z"
   },
   {
    "duration": 9,
    "start_time": "2021-11-18T07:06:13.075Z"
   },
   {
    "duration": 178,
    "start_time": "2021-11-18T07:06:15.184Z"
   },
   {
    "duration": 9,
    "start_time": "2021-11-18T07:06:21.669Z"
   },
   {
    "duration": 309,
    "start_time": "2021-11-18T07:07:15.425Z"
   },
   {
    "duration": 358,
    "start_time": "2021-11-18T07:07:20.838Z"
   },
   {
    "duration": 377,
    "start_time": "2021-11-18T07:07:23.951Z"
   },
   {
    "duration": 10,
    "start_time": "2021-11-18T07:07:27.164Z"
   },
   {
    "duration": 8,
    "start_time": "2021-11-18T07:07:35.521Z"
   },
   {
    "duration": 765,
    "start_time": "2021-11-18T07:07:40.702Z"
   },
   {
    "duration": 304,
    "start_time": "2021-11-18T07:07:46.330Z"
   },
   {
    "duration": 360,
    "start_time": "2021-11-18T07:08:00.938Z"
   },
   {
    "duration": 307,
    "start_time": "2021-11-18T07:08:02.584Z"
   },
   {
    "duration": 6,
    "start_time": "2021-11-18T07:08:08.537Z"
   },
   {
    "duration": 10,
    "start_time": "2021-11-18T07:08:11.586Z"
   },
   {
    "duration": 6,
    "start_time": "2021-11-18T07:08:56.381Z"
   },
   {
    "duration": 10,
    "start_time": "2021-11-18T07:08:59.986Z"
   },
   {
    "duration": 11,
    "start_time": "2021-11-18T07:09:15.429Z"
   },
   {
    "duration": 13,
    "start_time": "2021-11-18T07:09:18.354Z"
   },
   {
    "duration": 15,
    "start_time": "2021-11-18T07:32:47.659Z"
   },
   {
    "duration": 334,
    "start_time": "2021-11-18T07:33:08.015Z"
   },
   {
    "duration": 301,
    "start_time": "2021-11-18T07:33:20.105Z"
   },
   {
    "duration": 16,
    "start_time": "2021-11-18T07:33:31.100Z"
   },
   {
    "duration": 395,
    "start_time": "2021-11-18T07:33:52.311Z"
   },
   {
    "duration": 493,
    "start_time": "2021-11-18T07:34:33.635Z"
   },
   {
    "duration": 27,
    "start_time": "2021-11-18T07:35:17.480Z"
   },
   {
    "duration": 36,
    "start_time": "2021-11-18T07:35:32.770Z"
   },
   {
    "duration": 35,
    "start_time": "2021-11-18T07:35:41.601Z"
   },
   {
    "duration": 34,
    "start_time": "2021-11-18T07:37:52.145Z"
   },
   {
    "duration": 13,
    "start_time": "2021-11-18T07:38:21.987Z"
   },
   {
    "duration": 16,
    "start_time": "2021-11-18T07:38:26.278Z"
   },
   {
    "duration": 12,
    "start_time": "2021-11-18T07:38:28.489Z"
   },
   {
    "duration": 13,
    "start_time": "2021-11-18T07:38:30.467Z"
   },
   {
    "duration": 13,
    "start_time": "2021-11-18T07:38:32.290Z"
   },
   {
    "duration": 13,
    "start_time": "2021-11-18T07:38:35.568Z"
   },
   {
    "duration": 627,
    "start_time": "2021-11-19T07:16:55.990Z"
   },
   {
    "duration": 3,
    "start_time": "2021-11-19T07:16:56.618Z"
   },
   {
    "duration": 260,
    "start_time": "2021-11-19T07:16:56.623Z"
   },
   {
    "duration": 8,
    "start_time": "2021-11-19T07:16:56.885Z"
   },
   {
    "duration": 11,
    "start_time": "2021-11-19T07:16:56.894Z"
   },
   {
    "duration": 6,
    "start_time": "2021-11-19T07:16:56.906Z"
   },
   {
    "duration": 561,
    "start_time": "2021-11-19T07:16:56.913Z"
   },
   {
    "duration": 10,
    "start_time": "2021-11-19T07:16:57.477Z"
   },
   {
    "duration": 14,
    "start_time": "2021-11-19T07:16:57.489Z"
   },
   {
    "duration": 6,
    "start_time": "2021-11-19T07:16:57.505Z"
   },
   {
    "duration": 983,
    "start_time": "2021-11-19T07:18:26.130Z"
   },
   {
    "duration": -28,
    "start_time": "2021-11-19T07:18:27.143Z"
   },
   {
    "duration": 16,
    "start_time": "2021-11-19T07:18:37.873Z"
   },
   {
    "duration": 8,
    "start_time": "2021-11-19T07:18:45.683Z"
   },
   {
    "duration": 17,
    "start_time": "2021-11-19T07:18:52.793Z"
   },
   {
    "duration": 8,
    "start_time": "2021-11-19T07:18:54.739Z"
   },
   {
    "duration": 16,
    "start_time": "2021-11-19T07:18:59.668Z"
   },
   {
    "duration": 17,
    "start_time": "2021-11-19T07:19:01.107Z"
   },
   {
    "duration": 15,
    "start_time": "2021-11-19T07:19:02.463Z"
   },
   {
    "duration": 9,
    "start_time": "2021-11-19T07:19:34.713Z"
   },
   {
    "duration": 8,
    "start_time": "2021-11-19T07:19:36.684Z"
   },
   {
    "duration": 77,
    "start_time": "2021-11-19T07:20:29.361Z"
   },
   {
    "duration": 9,
    "start_time": "2021-11-19T07:20:37.389Z"
   },
   {
    "duration": 7,
    "start_time": "2021-11-19T07:20:38.990Z"
   },
   {
    "duration": 13,
    "start_time": "2021-11-19T07:21:06.462Z"
   },
   {
    "duration": 17,
    "start_time": "2021-11-19T07:21:14.612Z"
   },
   {
    "duration": 14,
    "start_time": "2021-11-19T07:21:15.818Z"
   },
   {
    "duration": 17,
    "start_time": "2021-11-19T07:21:16.462Z"
   },
   {
    "duration": 12,
    "start_time": "2021-11-19T07:21:21.693Z"
   },
   {
    "duration": 12,
    "start_time": "2021-11-19T07:21:22.323Z"
   },
   {
    "duration": 1451,
    "start_time": "2021-11-19T07:22:00.671Z"
   },
   {
    "duration": 6464,
    "start_time": "2021-11-19T07:22:27.236Z"
   },
   {
    "duration": 4347,
    "start_time": "2021-11-19T07:37:54.533Z"
   },
   {
    "duration": 16,
    "start_time": "2021-11-19T07:38:05.399Z"
   },
   {
    "duration": 105,
    "start_time": "2021-11-19T07:38:15.327Z"
   },
   {
    "duration": 5,
    "start_time": "2021-11-19T07:38:26.062Z"
   },
   {
    "duration": 79,
    "start_time": "2021-11-19T07:38:29.093Z"
   },
   {
    "duration": 79,
    "start_time": "2021-11-19T07:38:33.775Z"
   },
   {
    "duration": 73,
    "start_time": "2021-11-19T07:38:41.637Z"
   },
   {
    "duration": 5,
    "start_time": "2021-11-19T07:38:43.744Z"
   },
   {
    "duration": 5,
    "start_time": "2021-11-19T07:38:45.852Z"
   },
   {
    "duration": 8,
    "start_time": "2021-11-19T07:39:15.509Z"
   },
   {
    "duration": 403,
    "start_time": "2021-11-19T07:39:24.633Z"
   },
   {
    "duration": 148,
    "start_time": "2021-11-19T07:39:32.744Z"
   },
   {
    "duration": 8,
    "start_time": "2021-11-19T07:39:44.377Z"
   },
   {
    "duration": 8,
    "start_time": "2021-11-19T07:39:54.802Z"
   },
   {
    "duration": 8,
    "start_time": "2021-11-19T07:39:59.929Z"
   },
   {
    "duration": 8,
    "start_time": "2021-11-19T07:40:03.619Z"
   },
   {
    "duration": 90,
    "start_time": "2021-11-19T07:40:43.287Z"
   },
   {
    "duration": 5,
    "start_time": "2021-11-19T07:40:50.442Z"
   },
   {
    "duration": 158,
    "start_time": "2021-11-19T07:40:55.622Z"
   },
   {
    "duration": 149,
    "start_time": "2021-11-19T07:41:27.247Z"
   },
   {
    "duration": 148,
    "start_time": "2021-11-19T07:41:46.795Z"
   },
   {
    "duration": 388,
    "start_time": "2021-11-19T07:42:00.639Z"
   },
   {
    "duration": 306,
    "start_time": "2021-11-19T07:42:08.114Z"
   },
   {
    "duration": 875,
    "start_time": "2021-11-22T07:44:24.353Z"
   },
   {
    "duration": 4,
    "start_time": "2021-11-22T07:44:25.231Z"
   },
   {
    "duration": 267,
    "start_time": "2021-11-22T07:44:25.243Z"
   },
   {
    "duration": 17,
    "start_time": "2021-11-22T07:44:25.513Z"
   },
   {
    "duration": 32,
    "start_time": "2021-11-22T07:44:25.533Z"
   },
   {
    "duration": 21,
    "start_time": "2021-11-22T07:44:25.568Z"
   },
   {
    "duration": 1118,
    "start_time": "2021-11-22T07:44:25.592Z"
   },
   {
    "duration": 87,
    "start_time": "2021-11-22T07:44:26.714Z"
   },
   {
    "duration": 26,
    "start_time": "2021-11-22T07:44:26.804Z"
   },
   {
    "duration": 28,
    "start_time": "2021-11-22T07:44:26.833Z"
   },
   {
    "duration": 8787,
    "start_time": "2021-11-22T07:44:26.882Z"
   },
   {
    "duration": 30,
    "start_time": "2021-11-22T07:44:35.672Z"
   },
   {
    "duration": 56,
    "start_time": "2021-11-22T07:44:35.705Z"
   },
   {
    "duration": 24,
    "start_time": "2021-11-22T07:44:35.763Z"
   },
   {
    "duration": 866,
    "start_time": "2021-11-22T07:44:35.790Z"
   },
   {
    "duration": 24,
    "start_time": "2021-11-22T07:44:36.658Z"
   },
   {
    "duration": 36,
    "start_time": "2021-11-22T07:44:36.685Z"
   },
   {
    "duration": 658,
    "start_time": "2021-11-22T07:44:36.724Z"
   },
   {
    "duration": 10,
    "start_time": "2021-11-22T07:44:37.385Z"
   },
   {
    "duration": 23,
    "start_time": "2021-11-22T07:44:37.398Z"
   },
   {
    "duration": 15,
    "start_time": "2021-11-22T07:44:37.424Z"
   },
   {
    "duration": 42,
    "start_time": "2021-11-22T07:44:37.442Z"
   },
   {
    "duration": 22,
    "start_time": "2021-11-22T07:44:37.487Z"
   },
   {
    "duration": 18,
    "start_time": "2021-11-22T07:44:37.512Z"
   },
   {
    "duration": 57,
    "start_time": "2021-11-22T07:44:37.533Z"
   },
   {
    "duration": 735,
    "start_time": "2021-11-22T07:45:32.685Z"
   },
   {
    "duration": 407,
    "start_time": "2021-11-22T07:46:13.146Z"
   },
   {
    "duration": 17,
    "start_time": "2021-11-22T07:46:20.620Z"
   },
   {
    "duration": 43,
    "start_time": "2021-11-22T07:46:40.722Z"
   },
   {
    "duration": 39,
    "start_time": "2021-11-22T07:48:12.823Z"
   },
   {
    "duration": 38,
    "start_time": "2021-11-22T07:48:17.803Z"
   },
   {
    "duration": 47,
    "start_time": "2021-11-22T07:48:20.702Z"
   },
   {
    "duration": 41,
    "start_time": "2021-11-22T07:48:56.145Z"
   },
   {
    "duration": 38,
    "start_time": "2021-11-22T07:49:07.020Z"
   },
   {
    "duration": 40,
    "start_time": "2021-11-22T07:52:25.365Z"
   },
   {
    "duration": 38,
    "start_time": "2021-11-22T07:52:29.240Z"
   },
   {
    "duration": 38,
    "start_time": "2021-11-22T07:52:44.670Z"
   },
   {
    "duration": 7,
    "start_time": "2021-11-22T07:56:18.583Z"
   },
   {
    "duration": 297,
    "start_time": "2021-11-22T07:56:23.782Z"
   },
   {
    "duration": 7,
    "start_time": "2021-11-22T07:56:27.847Z"
   },
   {
    "duration": 266,
    "start_time": "2021-11-22T07:56:28.684Z"
   },
   {
    "duration": 31,
    "start_time": "2021-11-22T08:04:10.066Z"
   },
   {
    "duration": 16,
    "start_time": "2021-11-22T08:04:15.047Z"
   },
   {
    "duration": 5,
    "start_time": "2021-11-22T08:04:38.896Z"
   },
   {
    "duration": 15,
    "start_time": "2021-11-22T08:04:42.871Z"
   },
   {
    "duration": 806,
    "start_time": "2021-11-22T08:04:53.237Z"
   },
   {
    "duration": 7801,
    "start_time": "2021-11-22T08:05:00.254Z"
   },
   {
    "duration": 16,
    "start_time": "2021-11-22T08:05:13.062Z"
   },
   {
    "duration": 842,
    "start_time": "2021-11-22T08:05:14.754Z"
   },
   {
    "duration": 11,
    "start_time": "2021-11-22T08:07:08.277Z"
   },
   {
    "duration": 9,
    "start_time": "2021-11-22T08:07:22.247Z"
   },
   {
    "duration": 11,
    "start_time": "2021-11-22T08:07:26.520Z"
   },
   {
    "duration": 10,
    "start_time": "2021-11-22T08:08:54.000Z"
   },
   {
    "duration": 38,
    "start_time": "2021-11-22T08:09:43.932Z"
   },
   {
    "duration": 21,
    "start_time": "2021-11-22T08:09:45.396Z"
   },
   {
    "duration": 29,
    "start_time": "2021-11-22T08:09:51.440Z"
   },
   {
    "duration": 13,
    "start_time": "2021-11-22T08:09:53.246Z"
   },
   {
    "duration": 15,
    "start_time": "2021-11-22T08:10:56.927Z"
   },
   {
    "duration": 40,
    "start_time": "2021-11-22T08:10:57.680Z"
   },
   {
    "duration": 21,
    "start_time": "2021-11-22T08:10:58.407Z"
   },
   {
    "duration": 9,
    "start_time": "2021-11-22T08:11:33.800Z"
   },
   {
    "duration": 7,
    "start_time": "2021-11-22T08:11:37.476Z"
   },
   {
    "duration": 8,
    "start_time": "2021-11-22T08:11:42.340Z"
   },
   {
    "duration": 6,
    "start_time": "2021-11-22T08:11:44.994Z"
   },
   {
    "duration": 13,
    "start_time": "2021-11-22T08:12:00.957Z"
   },
   {
    "duration": 12,
    "start_time": "2021-11-22T08:12:42.071Z"
   },
   {
    "duration": 3,
    "start_time": "2021-11-22T08:13:32.472Z"
   },
   {
    "duration": 5,
    "start_time": "2021-11-22T08:15:42.591Z"
   },
   {
    "duration": 26,
    "start_time": "2021-11-22T08:15:46.423Z"
   },
   {
    "duration": 5,
    "start_time": "2021-11-22T08:15:50.579Z"
   },
   {
    "duration": 24,
    "start_time": "2021-11-22T08:16:18.415Z"
   },
   {
    "duration": 25,
    "start_time": "2021-11-22T08:16:21.357Z"
   },
   {
    "duration": 35,
    "start_time": "2021-11-22T08:16:38.120Z"
   },
   {
    "duration": 9,
    "start_time": "2021-11-22T08:16:42.525Z"
   },
   {
    "duration": 11,
    "start_time": "2021-11-22T08:16:50.190Z"
   },
   {
    "duration": 4,
    "start_time": "2021-11-22T08:17:25.690Z"
   },
   {
    "duration": 7,
    "start_time": "2021-11-22T08:17:28.357Z"
   },
   {
    "duration": 109,
    "start_time": "2021-11-22T08:18:12.377Z"
   },
   {
    "duration": 117,
    "start_time": "2021-11-22T08:18:15.649Z"
   },
   {
    "duration": 28,
    "start_time": "2021-11-22T08:18:17.005Z"
   },
   {
    "duration": 119,
    "start_time": "2021-11-22T08:18:51.225Z"
   },
   {
    "duration": 28,
    "start_time": "2021-11-22T08:18:52.047Z"
   },
   {
    "duration": 9,
    "start_time": "2021-11-22T08:20:00.012Z"
   },
   {
    "duration": 13,
    "start_time": "2021-11-22T08:20:01.496Z"
   },
   {
    "duration": 10,
    "start_time": "2021-11-22T08:20:46.044Z"
   },
   {
    "duration": 12,
    "start_time": "2021-11-22T08:20:46.535Z"
   },
   {
    "duration": 24,
    "start_time": "2021-11-22T08:21:02.494Z"
   },
   {
    "duration": 18,
    "start_time": "2021-11-22T08:21:10.336Z"
   },
   {
    "duration": 28,
    "start_time": "2021-11-22T08:21:14.565Z"
   },
   {
    "duration": 9,
    "start_time": "2021-11-22T08:21:19.839Z"
   },
   {
    "duration": 10,
    "start_time": "2021-11-22T08:21:22.158Z"
   },
   {
    "duration": 9,
    "start_time": "2021-11-22T08:21:38.588Z"
   },
   {
    "duration": 5,
    "start_time": "2021-11-22T08:23:15.150Z"
   },
   {
    "duration": 15,
    "start_time": "2021-11-22T08:23:18.862Z"
   },
   {
    "duration": 14,
    "start_time": "2021-11-22T08:23:29.266Z"
   },
   {
    "duration": 8829,
    "start_time": "2021-11-22T08:23:39.113Z"
   },
   {
    "duration": 9,
    "start_time": "2021-11-22T08:25:23.943Z"
   },
   {
    "duration": 10,
    "start_time": "2021-11-22T08:25:25.580Z"
   },
   {
    "duration": 12,
    "start_time": "2021-11-22T08:25:52.619Z"
   },
   {
    "duration": 17,
    "start_time": "2021-11-22T08:27:19.954Z"
   },
   {
    "duration": 21,
    "start_time": "2021-11-22T08:27:20.757Z"
   },
   {
    "duration": 16,
    "start_time": "2021-11-22T08:27:22.436Z"
   },
   {
    "duration": 39,
    "start_time": "2021-11-22T08:27:46.983Z"
   },
   {
    "duration": 55,
    "start_time": "2021-11-22T08:27:53.877Z"
   },
   {
    "duration": 1210,
    "start_time": "2021-11-22T08:28:38.335Z"
   },
   {
    "duration": 317,
    "start_time": "2021-11-22T08:28:51.134Z"
   },
   {
    "duration": 39,
    "start_time": "2021-11-22T08:28:53.216Z"
   },
   {
    "duration": 4,
    "start_time": "2021-11-22T08:28:55.382Z"
   },
   {
    "duration": 25,
    "start_time": "2021-11-22T08:28:59.895Z"
   },
   {
    "duration": 25,
    "start_time": "2021-11-22T08:29:32.488Z"
   },
   {
    "duration": 22,
    "start_time": "2021-11-22T09:48:52.543Z"
   },
   {
    "duration": 23,
    "start_time": "2021-11-22T09:48:54.008Z"
   },
   {
    "duration": 22,
    "start_time": "2021-11-22T09:48:55.142Z"
   },
   {
    "duration": 24,
    "start_time": "2021-11-22T09:48:56.169Z"
   },
   {
    "duration": 23,
    "start_time": "2021-11-22T09:48:57.139Z"
   },
   {
    "duration": 14,
    "start_time": "2021-11-22T09:49:33.188Z"
   },
   {
    "duration": 6,
    "start_time": "2021-11-22T09:49:59.578Z"
   },
   {
    "duration": 27,
    "start_time": "2021-11-22T09:55:47.849Z"
   },
   {
    "duration": 12,
    "start_time": "2021-11-22T09:56:19.033Z"
   },
   {
    "duration": 26,
    "start_time": "2021-11-22T09:56:25.415Z"
   },
   {
    "duration": 17,
    "start_time": "2021-11-22T09:56:38.427Z"
   },
   {
    "duration": 30,
    "start_time": "2021-11-22T09:56:44.158Z"
   },
   {
    "duration": 4,
    "start_time": "2021-11-22T09:57:00.869Z"
   },
   {
    "duration": 14,
    "start_time": "2021-11-22T09:57:05.993Z"
   },
   {
    "duration": 26,
    "start_time": "2021-11-22T09:57:07.838Z"
   },
   {
    "duration": 19,
    "start_time": "2021-11-22T09:57:18.602Z"
   },
   {
    "duration": 4,
    "start_time": "2021-11-22T09:57:23.654Z"
   },
   {
    "duration": 12,
    "start_time": "2021-11-22T09:57:26.497Z"
   },
   {
    "duration": 16,
    "start_time": "2021-11-22T09:57:28.386Z"
   },
   {
    "duration": 19,
    "start_time": "2021-11-22T09:57:33.586Z"
   },
   {
    "duration": 13,
    "start_time": "2021-11-22T09:58:25.226Z"
   },
   {
    "duration": 29,
    "start_time": "2021-11-22T09:58:25.987Z"
   },
   {
    "duration": 29,
    "start_time": "2021-11-22T09:58:28.904Z"
   },
   {
    "duration": 20,
    "start_time": "2021-11-22T09:58:42.004Z"
   },
   {
    "duration": 4,
    "start_time": "2021-11-22T09:58:49.699Z"
   },
   {
    "duration": 14,
    "start_time": "2021-11-22T09:58:56.352Z"
   },
   {
    "duration": 14,
    "start_time": "2021-11-22T09:59:01.427Z"
   },
   {
    "duration": 28,
    "start_time": "2021-11-22T09:59:02.660Z"
   },
   {
    "duration": 18,
    "start_time": "2021-11-22T09:59:06.806Z"
   },
   {
    "duration": 29,
    "start_time": "2021-11-22T09:59:08.449Z"
   },
   {
    "duration": 28,
    "start_time": "2021-11-22T09:59:54.144Z"
   },
   {
    "duration": 18,
    "start_time": "2021-11-22T10:00:02.084Z"
   },
   {
    "duration": 31,
    "start_time": "2021-11-22T10:00:03.083Z"
   },
   {
    "duration": 13,
    "start_time": "2021-11-22T10:00:38.700Z"
   },
   {
    "duration": 23,
    "start_time": "2021-11-22T10:00:40.074Z"
   },
   {
    "duration": 20,
    "start_time": "2021-11-22T10:00:53.105Z"
   },
   {
    "duration": 21,
    "start_time": "2021-11-22T10:01:10.164Z"
   },
   {
    "duration": 8,
    "start_time": "2021-11-22T10:01:25.881Z"
   },
   {
    "duration": 25,
    "start_time": "2021-11-22T10:01:36.246Z"
   },
   {
    "duration": 5,
    "start_time": "2021-11-22T10:01:45.314Z"
   },
   {
    "duration": 21,
    "start_time": "2021-11-22T10:01:51.035Z"
   },
   {
    "duration": 11,
    "start_time": "2021-11-22T10:01:54.370Z"
   },
   {
    "duration": 20,
    "start_time": "2021-11-22T10:02:12.710Z"
   },
   {
    "duration": 6,
    "start_time": "2021-11-22T10:02:15.970Z"
   },
   {
    "duration": 309,
    "start_time": "2021-11-22T10:02:21.217Z"
   },
   {
    "duration": 23,
    "start_time": "2021-11-22T10:02:32.267Z"
   },
   {
    "duration": 25,
    "start_time": "2021-11-22T10:02:44.123Z"
   },
   {
    "duration": 5,
    "start_time": "2021-11-22T10:02:47.603Z"
   },
   {
    "duration": 8,
    "start_time": "2021-11-22T10:02:50.953Z"
   },
   {
    "duration": 10,
    "start_time": "2021-11-22T10:03:43.875Z"
   },
   {
    "duration": 10,
    "start_time": "2021-11-22T10:03:46.297Z"
   },
   {
    "duration": 8,
    "start_time": "2021-11-22T10:03:58.677Z"
   },
   {
    "duration": 6,
    "start_time": "2021-11-22T10:05:03.569Z"
   },
   {
    "duration": 721,
    "start_time": "2021-11-22T10:05:14.613Z"
   },
   {
    "duration": 5,
    "start_time": "2021-11-22T10:05:20.097Z"
   },
   {
    "duration": 8,
    "start_time": "2021-11-22T10:05:24.799Z"
   },
   {
    "duration": 12,
    "start_time": "2021-11-22T10:06:10.408Z"
   },
   {
    "duration": 4,
    "start_time": "2021-11-22T10:06:18.369Z"
   },
   {
    "duration": 299,
    "start_time": "2021-11-22T10:06:21.300Z"
   },
   {
    "duration": 308,
    "start_time": "2021-11-22T10:06:25.611Z"
   },
   {
    "duration": 303,
    "start_time": "2021-11-22T10:06:36.366Z"
   },
   {
    "duration": 309,
    "start_time": "2021-11-22T10:06:49.143Z"
   },
   {
    "duration": 324,
    "start_time": "2021-11-22T10:06:52.213Z"
   },
   {
    "duration": 230988,
    "start_time": "2021-11-22T10:08:04.072Z"
   },
   {
    "duration": 752,
    "start_time": "2021-11-22T10:11:55.063Z"
   },
   {
    "duration": 778,
    "start_time": "2021-11-22T10:12:20.916Z"
   },
   {
    "duration": 80732,
    "start_time": "2021-11-22T10:12:25.165Z"
   },
   {
    "duration": 47193,
    "start_time": "2021-11-22T10:13:51.007Z"
   },
   {
    "duration": 354,
    "start_time": "2021-11-22T10:15:39.092Z"
   },
   {
    "duration": 18,
    "start_time": "2021-11-22T10:15:44.180Z"
   },
   {
    "duration": 551,
    "start_time": "2021-11-22T10:15:48.124Z"
   },
   {
    "duration": 70757,
    "start_time": "2021-11-22T10:16:04.928Z"
   },
   {
    "duration": 5,
    "start_time": "2021-11-22T10:18:18.427Z"
   },
   {
    "duration": 4,
    "start_time": "2021-11-22T10:18:21.775Z"
   },
   {
    "duration": 1587,
    "start_time": "2021-11-22T10:18:46.405Z"
   },
   {
    "duration": 4,
    "start_time": "2021-11-22T10:18:47.995Z"
   },
   {
    "duration": 297,
    "start_time": "2021-11-22T10:18:48.003Z"
   },
   {
    "duration": 19,
    "start_time": "2021-11-22T10:18:48.303Z"
   },
   {
    "duration": 26,
    "start_time": "2021-11-22T10:18:48.325Z"
   },
   {
    "duration": 33,
    "start_time": "2021-11-22T10:18:48.354Z"
   },
   {
    "duration": 1106,
    "start_time": "2021-11-22T10:18:48.390Z"
   },
   {
    "duration": 24,
    "start_time": "2021-11-22T10:18:49.501Z"
   },
   {
    "duration": 13,
    "start_time": "2021-11-22T10:18:49.528Z"
   },
   {
    "duration": 57,
    "start_time": "2021-11-22T10:18:49.543Z"
   },
   {
    "duration": 19,
    "start_time": "2021-11-22T10:18:49.603Z"
   },
   {
    "duration": 25,
    "start_time": "2021-11-22T10:18:49.625Z"
   },
   {
    "duration": 38,
    "start_time": "2021-11-22T10:18:49.652Z"
   },
   {
    "duration": 21,
    "start_time": "2021-11-22T10:18:49.692Z"
   },
   {
    "duration": 12,
    "start_time": "2021-11-22T10:18:49.716Z"
   },
   {
    "duration": 10,
    "start_time": "2021-11-22T10:18:49.730Z"
   },
   {
    "duration": 47,
    "start_time": "2021-11-22T10:18:49.742Z"
   },
   {
    "duration": 24,
    "start_time": "2021-11-22T10:18:49.791Z"
   },
   {
    "duration": 10,
    "start_time": "2021-11-22T10:18:49.817Z"
   },
   {
    "duration": 686,
    "start_time": "2021-11-22T10:18:49.830Z"
   },
   {
    "duration": 11,
    "start_time": "2021-11-22T10:18:50.519Z"
   },
   {
    "duration": 14,
    "start_time": "2021-11-22T10:18:50.532Z"
   },
   {
    "duration": 48,
    "start_time": "2021-11-22T10:18:50.553Z"
   },
   {
    "duration": 12,
    "start_time": "2021-11-22T10:18:50.605Z"
   },
   {
    "duration": 17,
    "start_time": "2021-11-22T10:18:50.619Z"
   },
   {
    "duration": 76,
    "start_time": "2021-11-22T10:18:50.638Z"
   },
   {
    "duration": 4,
    "start_time": "2021-11-22T10:18:50.717Z"
   },
   {
    "duration": 14,
    "start_time": "2021-11-22T10:18:50.723Z"
   },
   {
    "duration": 42,
    "start_time": "2021-11-22T10:18:50.740Z"
   },
   {
    "duration": 107,
    "start_time": "2021-11-22T10:18:50.785Z"
   },
   {
    "duration": 24,
    "start_time": "2021-11-22T10:18:50.895Z"
   },
   {
    "duration": 11,
    "start_time": "2021-11-22T10:18:50.922Z"
   },
   {
    "duration": 16,
    "start_time": "2021-11-22T10:18:50.936Z"
   },
   {
    "duration": 14,
    "start_time": "2021-11-22T10:18:50.982Z"
   },
   {
    "duration": 27,
    "start_time": "2021-11-22T10:18:50.998Z"
   },
   {
    "duration": 5,
    "start_time": "2021-11-22T10:18:51.028Z"
   },
   {
    "duration": 31,
    "start_time": "2021-11-22T10:18:51.035Z"
   },
   {
    "duration": 19,
    "start_time": "2021-11-22T10:18:51.068Z"
   },
   {
    "duration": 17,
    "start_time": "2021-11-22T10:18:51.089Z"
   },
   {
    "duration": 24,
    "start_time": "2021-11-22T10:18:51.108Z"
   },
   {
    "duration": 25,
    "start_time": "2021-11-22T10:18:51.134Z"
   },
   {
    "duration": 4,
    "start_time": "2021-11-22T10:19:03.384Z"
   },
   {
    "duration": 35407,
    "start_time": "2021-11-22T10:19:04.083Z"
   },
   {
    "duration": 824,
    "start_time": "2021-11-22T10:19:39.493Z"
   },
   {
    "duration": 5,
    "start_time": "2021-11-22T10:20:08.496Z"
   },
   {
    "duration": 5,
    "start_time": "2021-11-22T10:20:25.722Z"
   },
   {
    "duration": 482742,
    "start_time": "2021-11-22T10:20:36.024Z"
   },
   {
    "duration": 838,
    "start_time": "2021-11-22T10:28:38.769Z"
   },
   {
    "duration": 37673,
    "start_time": "2021-11-22T10:28:39.610Z"
   },
   {
    "duration": 17055,
    "start_time": "2021-11-22T10:29:17.287Z"
   },
   {
    "duration": 19,
    "start_time": "2021-11-22T10:29:34.345Z"
   },
   {
    "duration": 580,
    "start_time": "2021-11-22T10:29:34.367Z"
   },
   {
    "duration": 4,
    "start_time": "2021-11-22T10:29:34.949Z"
   },
   {
    "duration": 11883,
    "start_time": "2021-11-22T10:30:01.705Z"
   },
   {
    "duration": 19,
    "start_time": "2021-11-22T10:30:13.591Z"
   },
   {
    "duration": 613,
    "start_time": "2021-11-22T10:30:13.613Z"
   },
   {
    "duration": 11,
    "start_time": "2021-11-22T10:30:28.257Z"
   },
   {
    "duration": 29728,
    "start_time": "2021-11-22T10:33:17.560Z"
   },
   {
    "duration": 94379,
    "start_time": "2021-11-22T10:34:17.918Z"
   },
   {
    "duration": 58291,
    "start_time": "2021-11-22T10:35:52.300Z"
   },
   {
    "duration": 23,
    "start_time": "2021-11-22T10:36:50.594Z"
   },
   {
    "duration": 607,
    "start_time": "2021-11-22T10:36:50.620Z"
   },
   {
    "duration": 19,
    "start_time": "2021-11-22T10:37:52.353Z"
   },
   {
    "duration": 9,
    "start_time": "2021-11-22T10:37:57.490Z"
   },
   {
    "duration": 6,
    "start_time": "2021-11-22T10:38:03.187Z"
   },
   {
    "duration": 6,
    "start_time": "2021-11-22T10:39:36.496Z"
   },
   {
    "duration": 20,
    "start_time": "2021-11-22T10:39:45.069Z"
   },
   {
    "duration": 568,
    "start_time": "2021-11-22T10:39:45.707Z"
   },
   {
    "duration": 267,
    "start_time": "2021-11-22T10:40:14.759Z"
   },
   {
    "duration": 16,
    "start_time": "2021-11-22T10:40:16.403Z"
   },
   {
    "duration": 27,
    "start_time": "2021-11-22T10:40:18.487Z"
   },
   {
    "duration": 13,
    "start_time": "2021-11-22T10:40:19.158Z"
   },
   {
    "duration": 1308,
    "start_time": "2021-11-22T10:40:20.701Z"
   },
   {
    "duration": 16,
    "start_time": "2021-11-22T10:40:25.388Z"
   },
   {
    "duration": 12,
    "start_time": "2021-11-22T10:40:27.149Z"
   },
   {
    "duration": 29,
    "start_time": "2021-11-22T10:40:29.063Z"
   },
   {
    "duration": 4,
    "start_time": "2021-11-22T10:40:30.789Z"
   },
   {
    "duration": 5,
    "start_time": "2021-11-22T10:40:32.240Z"
   },
   {
    "duration": 29,
    "start_time": "2021-11-22T10:40:45.804Z"
   },
   {
    "duration": 473,
    "start_time": "2021-11-22T10:40:59.869Z"
   },
   {
    "duration": 18,
    "start_time": "2021-11-22T10:41:01.764Z"
   },
   {
    "duration": 23,
    "start_time": "2021-11-22T10:41:08.828Z"
   },
   {
    "duration": 4,
    "start_time": "2021-11-22T10:41:10.397Z"
   },
   {
    "duration": 5,
    "start_time": "2021-11-22T10:41:15.482Z"
   },
   {
    "duration": 4,
    "start_time": "2021-11-22T10:41:31.847Z"
   },
   {
    "duration": 220,
    "start_time": "2021-11-22T10:41:35.964Z"
   },
   {
    "duration": 14,
    "start_time": "2021-11-22T10:41:37.143Z"
   },
   {
    "duration": 17,
    "start_time": "2021-11-22T10:41:38.174Z"
   },
   {
    "duration": 11,
    "start_time": "2021-11-22T10:41:39.041Z"
   },
   {
    "duration": 1306,
    "start_time": "2021-11-22T10:41:40.369Z"
   },
   {
    "duration": 15,
    "start_time": "2021-11-22T10:41:43.229Z"
   },
   {
    "duration": 12,
    "start_time": "2021-11-22T10:41:45.689Z"
   },
   {
    "duration": 22,
    "start_time": "2021-11-22T10:42:15.632Z"
   },
   {
    "duration": 4,
    "start_time": "2021-11-22T10:42:18.352Z"
   },
   {
    "duration": 22,
    "start_time": "2021-11-22T10:42:30.368Z"
   },
   {
    "duration": 4,
    "start_time": "2021-11-22T10:42:43.501Z"
   },
   {
    "duration": 22,
    "start_time": "2021-11-22T10:42:47.788Z"
   },
   {
    "duration": 12,
    "start_time": "2021-11-22T10:42:49.727Z"
   },
   {
    "duration": 22,
    "start_time": "2021-11-22T10:42:53.146Z"
   },
   {
    "duration": 10,
    "start_time": "2021-11-22T10:42:57.656Z"
   },
   {
    "duration": 11,
    "start_time": "2021-11-22T10:43:04.109Z"
   },
   {
    "duration": 12,
    "start_time": "2021-11-22T10:43:29.744Z"
   },
   {
    "duration": 12,
    "start_time": "2021-11-22T10:44:08.730Z"
   },
   {
    "duration": 38,
    "start_time": "2021-11-22T10:44:32.174Z"
   },
   {
    "duration": 12,
    "start_time": "2021-11-22T10:44:33.063Z"
   },
   {
    "duration": 19,
    "start_time": "2021-11-22T10:44:38.033Z"
   },
   {
    "duration": 10,
    "start_time": "2021-11-22T10:45:18.758Z"
   },
   {
    "duration": 27,
    "start_time": "2021-11-22T10:45:19.385Z"
   },
   {
    "duration": 36,
    "start_time": "2021-11-22T10:45:25.126Z"
   },
   {
    "duration": 1569,
    "start_time": "2021-11-22T10:46:18.775Z"
   },
   {
    "duration": 4,
    "start_time": "2021-11-22T10:46:20.347Z"
   },
   {
    "duration": 237,
    "start_time": "2021-11-22T10:46:20.354Z"
   },
   {
    "duration": 16,
    "start_time": "2021-11-22T10:46:20.594Z"
   },
   {
    "duration": 16,
    "start_time": "2021-11-22T10:46:20.613Z"
   },
   {
    "duration": 15,
    "start_time": "2021-11-22T10:46:20.632Z"
   },
   {
    "duration": 1271,
    "start_time": "2021-11-22T10:46:20.649Z"
   },
   {
    "duration": 21,
    "start_time": "2021-11-22T10:46:21.923Z"
   },
   {
    "duration": 12,
    "start_time": "2021-11-22T10:46:21.947Z"
   },
   {
    "duration": 50,
    "start_time": "2021-11-22T10:46:21.962Z"
   },
   {
    "duration": 9,
    "start_time": "2021-11-22T10:46:41.500Z"
   },
   {
    "duration": 10,
    "start_time": "2021-11-22T10:46:42.336Z"
   },
   {
    "duration": 12,
    "start_time": "2021-11-22T10:46:55.386Z"
   },
   {
    "duration": 483,
    "start_time": "2021-11-22T10:47:13.469Z"
   },
   {
    "duration": 8,
    "start_time": "2021-11-22T10:47:17.417Z"
   },
   {
    "duration": 35,
    "start_time": "2021-11-22T10:47:18.180Z"
   },
   {
    "duration": 12,
    "start_time": "2021-11-22T10:47:20.975Z"
   },
   {
    "duration": 10,
    "start_time": "2021-11-22T10:47:48.983Z"
   },
   {
    "duration": 9,
    "start_time": "2021-11-22T10:47:49.745Z"
   },
   {
    "duration": 29,
    "start_time": "2021-11-22T10:47:52.946Z"
   },
   {
    "duration": 27,
    "start_time": "2021-11-22T10:48:13.775Z"
   },
   {
    "duration": 28,
    "start_time": "2021-11-22T10:48:27.897Z"
   },
   {
    "duration": 7733,
    "start_time": "2021-11-22T10:48:30.727Z"
   },
   {
    "duration": 45,
    "start_time": "2021-11-22T10:48:45.087Z"
   },
   {
    "duration": 29,
    "start_time": "2021-11-22T10:48:53.377Z"
   },
   {
    "duration": 39,
    "start_time": "2021-11-22T10:49:10.657Z"
   },
   {
    "duration": 40,
    "start_time": "2021-11-22T10:49:18.262Z"
   },
   {
    "duration": 35,
    "start_time": "2021-11-22T10:49:21.615Z"
   },
   {
    "duration": 27,
    "start_time": "2021-11-22T10:49:28.497Z"
   },
   {
    "duration": 28,
    "start_time": "2021-11-22T10:49:30.895Z"
   },
   {
    "duration": 31,
    "start_time": "2021-11-22T10:49:34.160Z"
   },
   {
    "duration": 286,
    "start_time": "2021-11-22T10:50:50.253Z"
   },
   {
    "duration": 29,
    "start_time": "2021-11-22T10:51:00.380Z"
   },
   {
    "duration": 301,
    "start_time": "2021-11-22T10:51:49.547Z"
   },
   {
    "duration": 40,
    "start_time": "2021-11-22T10:51:55.555Z"
   },
   {
    "duration": 311,
    "start_time": "2021-11-22T10:52:02.119Z"
   },
   {
    "duration": 324,
    "start_time": "2021-11-22T10:52:06.173Z"
   },
   {
    "duration": 6,
    "start_time": "2021-11-22T10:52:08.332Z"
   },
   {
    "duration": 301,
    "start_time": "2021-11-22T10:52:11.405Z"
   },
   {
    "duration": 6,
    "start_time": "2021-11-22T10:52:15.049Z"
   },
   {
    "duration": 23,
    "start_time": "2021-11-22T10:52:55.957Z"
   },
   {
    "duration": 31,
    "start_time": "2021-11-22T10:53:05.694Z"
   },
   {
    "duration": 5,
    "start_time": "2021-11-22T10:53:07.016Z"
   },
   {
    "duration": 7,
    "start_time": "2021-11-22T10:53:09.547Z"
   },
   {
    "duration": 7,
    "start_time": "2021-11-22T10:53:10.155Z"
   },
   {
    "duration": 6,
    "start_time": "2021-11-22T10:53:11.033Z"
   },
   {
    "duration": 639,
    "start_time": "2021-11-22T10:53:12.186Z"
   },
   {
    "duration": 28,
    "start_time": "2021-11-22T10:53:24.413Z"
   },
   {
    "duration": 5,
    "start_time": "2021-11-22T10:53:26.462Z"
   },
   {
    "duration": 7,
    "start_time": "2021-11-22T10:53:27.888Z"
   },
   {
    "duration": 7,
    "start_time": "2021-11-22T10:53:28.557Z"
   },
   {
    "duration": 6,
    "start_time": "2021-11-22T10:53:29.629Z"
   },
   {
    "duration": 9,
    "start_time": "2021-11-22T10:53:30.927Z"
   },
   {
    "duration": 14,
    "start_time": "2021-11-22T10:53:32.293Z"
   },
   {
    "duration": 5,
    "start_time": "2021-11-22T10:53:33.376Z"
   },
   {
    "duration": 20023,
    "start_time": "2021-11-22T10:53:36.367Z"
   },
   {
    "duration": 58033,
    "start_time": "2021-11-22T10:53:56.392Z"
   },
   {
    "duration": 292,
    "start_time": "2021-11-22T10:54:54.429Z"
   },
   {
    "duration": 14,
    "start_time": "2021-11-22T10:54:54.709Z"
   },
   {
    "duration": 6,
    "start_time": "2021-11-22T10:55:02.312Z"
   },
   {
    "duration": 538,
    "start_time": "2021-11-22T10:55:03.509Z"
   },
   {
    "duration": 4,
    "start_time": "2021-11-22T10:56:17.173Z"
   },
   {
    "duration": 287,
    "start_time": "2021-11-22T10:56:22.490Z"
   },
   {
    "duration": 544,
    "start_time": "2021-11-22T10:57:31.050Z"
   },
   {
    "duration": 22,
    "start_time": "2021-11-22T10:58:16.019Z"
   },
   {
    "duration": 5,
    "start_time": "2021-11-22T10:58:49.573Z"
   },
   {
    "duration": 5,
    "start_time": "2021-11-22T10:58:50.957Z"
   },
   {
    "duration": 21,
    "start_time": "2021-11-22T10:58:52.038Z"
   },
   {
    "duration": 1023,
    "start_time": "2021-11-22T10:59:00.067Z"
   },
   {
    "duration": 870,
    "start_time": "2021-11-22T10:59:09.755Z"
   },
   {
    "duration": 6,
    "start_time": "2021-11-22T10:59:22.374Z"
   },
   {
    "duration": 21,
    "start_time": "2021-11-22T10:59:23.979Z"
   },
   {
    "duration": 42,
    "start_time": "2021-11-22T10:59:30.462Z"
   },
   {
    "duration": 25,
    "start_time": "2021-11-22T11:00:07.072Z"
   },
   {
    "duration": 310,
    "start_time": "2021-11-22T11:00:13.746Z"
   },
   {
    "duration": 103,
    "start_time": "2021-11-22T11:00:17.741Z"
   },
   {
    "duration": 25,
    "start_time": "2021-11-22T11:00:20.022Z"
   },
   {
    "duration": 22,
    "start_time": "2021-11-22T11:00:25.995Z"
   },
   {
    "duration": 21,
    "start_time": "2021-11-22T11:00:29.647Z"
   },
   {
    "duration": 4,
    "start_time": "2021-11-22T11:03:39.483Z"
   },
   {
    "duration": 3919,
    "start_time": "2021-11-22T11:03:41.589Z"
   },
   {
    "duration": 747,
    "start_time": "2021-11-22T11:03:48.753Z"
   },
   {
    "duration": 1574,
    "start_time": "2021-11-22T11:04:40.162Z"
   },
   {
    "duration": 4,
    "start_time": "2021-11-22T11:04:41.739Z"
   },
   {
    "duration": 225,
    "start_time": "2021-11-22T11:04:41.747Z"
   },
   {
    "duration": 16,
    "start_time": "2021-11-22T11:04:41.975Z"
   },
   {
    "duration": 18,
    "start_time": "2021-11-22T11:04:41.994Z"
   },
   {
    "duration": 12,
    "start_time": "2021-11-22T11:04:42.015Z"
   },
   {
    "duration": 1119,
    "start_time": "2021-11-22T11:04:42.030Z"
   },
   {
    "duration": 32,
    "start_time": "2021-11-22T11:04:43.152Z"
   },
   {
    "duration": 12,
    "start_time": "2021-11-22T11:04:43.188Z"
   },
   {
    "duration": 24,
    "start_time": "2021-11-22T11:04:43.203Z"
   },
   {
    "duration": 21,
    "start_time": "2021-11-22T11:04:43.230Z"
   },
   {
    "duration": 23,
    "start_time": "2021-11-22T11:04:43.284Z"
   },
   {
    "duration": 12,
    "start_time": "2021-11-22T11:04:43.310Z"
   },
   {
    "duration": 11,
    "start_time": "2021-11-22T11:04:43.324Z"
   },
   {
    "duration": 11,
    "start_time": "2021-11-22T11:04:43.383Z"
   },
   {
    "duration": 903,
    "start_time": "2021-11-22T11:04:43.398Z"
   },
   {
    "duration": 17,
    "start_time": "2021-11-22T11:04:44.305Z"
   },
   {
    "duration": 20,
    "start_time": "2021-11-22T11:04:44.325Z"
   },
   {
    "duration": 34,
    "start_time": "2021-11-22T11:04:44.347Z"
   },
   {
    "duration": 131,
    "start_time": "2021-11-22T11:04:44.384Z"
   },
   {
    "duration": 3,
    "start_time": "2021-11-22T11:04:44.518Z"
   },
   {
    "duration": 31,
    "start_time": "2021-11-22T11:04:44.523Z"
   },
   {
    "duration": 21,
    "start_time": "2021-11-22T11:04:44.557Z"
   },
   {
    "duration": 39,
    "start_time": "2021-11-22T11:04:44.583Z"
   },
   {
    "duration": 22,
    "start_time": "2021-11-22T11:04:44.625Z"
   },
   {
    "duration": 19,
    "start_time": "2021-11-22T11:04:44.650Z"
   },
   {
    "duration": 41,
    "start_time": "2021-11-22T11:04:44.676Z"
   },
   {
    "duration": 6,
    "start_time": "2021-11-22T11:04:44.721Z"
   },
   {
    "duration": 19,
    "start_time": "2021-11-22T11:04:44.729Z"
   },
   {
    "duration": 14,
    "start_time": "2021-11-22T11:04:44.751Z"
   },
   {
    "duration": 9,
    "start_time": "2021-11-22T11:04:44.783Z"
   },
   {
    "duration": 21,
    "start_time": "2021-11-22T11:04:44.794Z"
   },
   {
    "duration": 21,
    "start_time": "2021-11-22T11:04:44.817Z"
   },
   {
    "duration": 6,
    "start_time": "2021-11-22T11:04:44.842Z"
   },
   {
    "duration": 4000,
    "start_time": "2021-11-22T11:04:44.881Z"
   },
   {
    "duration": 751,
    "start_time": "2021-11-22T11:04:48.884Z"
   },
   {
    "duration": 20656,
    "start_time": "2021-11-22T11:04:49.637Z"
   },
   {
    "duration": 58821,
    "start_time": "2021-11-22T11:05:10.295Z"
   },
   {
    "duration": 5,
    "start_time": "2021-11-22T11:06:09.119Z"
   },
   {
    "duration": 826,
    "start_time": "2021-11-22T11:06:09.127Z"
   },
   {
    "duration": 2005,
    "start_time": "2021-11-22T11:50:47.885Z"
   },
   {
    "duration": 4,
    "start_time": "2021-11-22T11:50:49.893Z"
   },
   {
    "duration": 254,
    "start_time": "2021-11-22T11:50:49.900Z"
   },
   {
    "duration": 15,
    "start_time": "2021-11-22T11:50:50.157Z"
   },
   {
    "duration": 19,
    "start_time": "2021-11-22T11:50:50.174Z"
   },
   {
    "duration": 10,
    "start_time": "2021-11-22T11:50:50.197Z"
   },
   {
    "duration": 1146,
    "start_time": "2021-11-22T11:50:50.210Z"
   },
   {
    "duration": 41,
    "start_time": "2021-11-22T11:50:51.358Z"
   },
   {
    "duration": 16,
    "start_time": "2021-11-22T11:50:51.405Z"
   },
   {
    "duration": 33,
    "start_time": "2021-11-22T11:50:51.426Z"
   },
   {
    "duration": 43,
    "start_time": "2021-11-22T11:50:51.462Z"
   },
   {
    "duration": 39,
    "start_time": "2021-11-22T11:50:51.508Z"
   },
   {
    "duration": 38,
    "start_time": "2021-11-22T11:50:51.550Z"
   },
   {
    "duration": 19,
    "start_time": "2021-11-22T11:50:51.591Z"
   },
   {
    "duration": 17,
    "start_time": "2021-11-22T11:50:51.613Z"
   },
   {
    "duration": 1065,
    "start_time": "2021-11-22T11:50:51.633Z"
   },
   {
    "duration": 16,
    "start_time": "2021-11-22T11:50:52.701Z"
   },
   {
    "duration": 11,
    "start_time": "2021-11-22T11:50:52.720Z"
   },
   {
    "duration": 11,
    "start_time": "2021-11-22T11:50:52.733Z"
   },
   {
    "duration": 199,
    "start_time": "2021-11-22T11:50:52.747Z"
   },
   {
    "duration": 5,
    "start_time": "2021-11-22T11:50:52.949Z"
   },
   {
    "duration": 33,
    "start_time": "2021-11-22T11:50:52.957Z"
   },
   {
    "duration": 26,
    "start_time": "2021-11-22T11:50:52.993Z"
   },
   {
    "duration": 25,
    "start_time": "2021-11-22T11:50:53.022Z"
   },
   {
    "duration": 38,
    "start_time": "2021-11-22T11:50:53.050Z"
   },
   {
    "duration": 13,
    "start_time": "2021-11-22T11:50:53.091Z"
   },
   {
    "duration": 31,
    "start_time": "2021-11-22T11:50:53.112Z"
   },
   {
    "duration": 37,
    "start_time": "2021-11-22T11:50:53.145Z"
   },
   {
    "duration": 15,
    "start_time": "2021-11-22T11:50:53.186Z"
   },
   {
    "duration": 19,
    "start_time": "2021-11-22T11:50:53.204Z"
   },
   {
    "duration": 22,
    "start_time": "2021-11-22T11:50:53.226Z"
   },
   {
    "duration": 18,
    "start_time": "2021-11-22T11:50:53.252Z"
   },
   {
    "duration": 20,
    "start_time": "2021-11-22T11:50:53.273Z"
   },
   {
    "duration": 4,
    "start_time": "2021-11-22T11:50:53.296Z"
   },
   {
    "duration": 6256,
    "start_time": "2021-11-22T11:50:53.303Z"
   },
   {
    "duration": 1292,
    "start_time": "2021-11-22T11:50:59.562Z"
   },
   {
    "duration": 166837,
    "start_time": "2021-11-22T11:51:00.857Z"
   },
   {
    "duration": 59421,
    "start_time": "2021-11-22T11:53:47.697Z"
   },
   {
    "duration": 20,
    "start_time": "2021-11-22T11:54:47.122Z"
   },
   {
    "duration": 669,
    "start_time": "2021-11-22T11:54:47.145Z"
   },
   {
    "duration": 25,
    "start_time": "2021-11-22T12:01:47.989Z"
   },
   {
    "duration": 42,
    "start_time": "2021-11-22T12:01:55.857Z"
   },
   {
    "duration": 23,
    "start_time": "2021-11-22T12:02:16.211Z"
   },
   {
    "duration": 120,
    "start_time": "2021-11-22T12:03:15.838Z"
   },
   {
    "duration": 10,
    "start_time": "2021-11-22T12:03:18.636Z"
   },
   {
    "duration": 35,
    "start_time": "2021-11-22T12:03:19.602Z"
   },
   {
    "duration": 1589,
    "start_time": "2021-11-22T12:03:28.649Z"
   },
   {
    "duration": 4,
    "start_time": "2021-11-22T12:03:30.241Z"
   },
   {
    "duration": 380,
    "start_time": "2021-11-22T12:03:30.251Z"
   },
   {
    "duration": 18,
    "start_time": "2021-11-22T12:03:30.633Z"
   },
   {
    "duration": 31,
    "start_time": "2021-11-22T12:03:30.654Z"
   },
   {
    "duration": 21,
    "start_time": "2021-11-22T12:03:30.689Z"
   },
   {
    "duration": 1166,
    "start_time": "2021-11-22T12:03:30.716Z"
   },
   {
    "duration": 30,
    "start_time": "2021-11-22T12:03:31.886Z"
   },
   {
    "duration": 34,
    "start_time": "2021-11-22T12:03:31.919Z"
   },
   {
    "duration": 35,
    "start_time": "2021-11-22T12:03:31.956Z"
   },
   {
    "duration": 23,
    "start_time": "2021-11-22T12:03:31.994Z"
   },
   {
    "duration": 27,
    "start_time": "2021-11-22T12:03:32.019Z"
   },
   {
    "duration": 33,
    "start_time": "2021-11-22T12:03:32.049Z"
   },
   {
    "duration": 31,
    "start_time": "2021-11-22T12:03:32.085Z"
   },
   {
    "duration": 14,
    "start_time": "2021-11-22T12:03:32.119Z"
   },
   {
    "duration": 733,
    "start_time": "2021-11-22T12:03:32.135Z"
   },
   {
    "duration": 29,
    "start_time": "2021-11-22T12:03:32.870Z"
   },
   {
    "duration": 14,
    "start_time": "2021-11-22T12:03:32.903Z"
   },
   {
    "duration": 11,
    "start_time": "2021-11-22T12:03:32.920Z"
   },
   {
    "duration": 135,
    "start_time": "2021-11-22T12:03:32.934Z"
   },
   {
    "duration": 4,
    "start_time": "2021-11-22T12:03:33.071Z"
   },
   {
    "duration": 23,
    "start_time": "2021-11-22T12:03:33.080Z"
   },
   {
    "duration": 15,
    "start_time": "2021-11-22T12:03:33.106Z"
   },
   {
    "duration": 19,
    "start_time": "2021-11-22T12:03:33.124Z"
   },
   {
    "duration": 42,
    "start_time": "2021-11-22T12:03:33.146Z"
   },
   {
    "duration": 13,
    "start_time": "2021-11-22T12:03:33.190Z"
   },
   {
    "duration": 48,
    "start_time": "2021-11-22T12:03:33.206Z"
   },
   {
    "duration": 29,
    "start_time": "2021-11-22T12:03:33.257Z"
   },
   {
    "duration": 15,
    "start_time": "2021-11-22T12:03:33.289Z"
   },
   {
    "duration": 9,
    "start_time": "2021-11-22T12:03:33.309Z"
   },
   {
    "duration": 11,
    "start_time": "2021-11-22T12:03:33.320Z"
   },
   {
    "duration": 22,
    "start_time": "2021-11-22T12:03:33.334Z"
   },
   {
    "duration": 204,
    "start_time": "2021-11-22T12:03:33.383Z"
   },
   {
    "duration": 5,
    "start_time": "2021-11-22T12:03:33.589Z"
   },
   {
    "duration": 6260,
    "start_time": "2021-11-22T12:03:33.596Z"
   },
   {
    "duration": 1130,
    "start_time": "2021-11-22T12:03:39.859Z"
   },
   {
    "duration": 177209,
    "start_time": "2021-11-22T12:03:40.992Z"
   },
   {
    "duration": 98849,
    "start_time": "2021-11-22T12:06:38.203Z"
   },
   {
    "duration": 53,
    "start_time": "2021-11-22T12:08:17.055Z"
   },
   {
    "duration": 1112,
    "start_time": "2021-11-22T12:08:17.111Z"
   },
   {
    "duration": 10,
    "start_time": "2021-11-22T12:09:35.094Z"
   },
   {
    "duration": 19,
    "start_time": "2021-11-22T12:09:35.854Z"
   },
   {
    "duration": 1948,
    "start_time": "2021-11-22T12:09:44.102Z"
   },
   {
    "duration": 4,
    "start_time": "2021-11-22T12:09:46.053Z"
   },
   {
    "duration": 286,
    "start_time": "2021-11-22T12:09:46.061Z"
   },
   {
    "duration": 19,
    "start_time": "2021-11-22T12:09:46.350Z"
   },
   {
    "duration": 28,
    "start_time": "2021-11-22T12:09:46.372Z"
   },
   {
    "duration": 14,
    "start_time": "2021-11-22T12:09:46.402Z"
   },
   {
    "duration": 1149,
    "start_time": "2021-11-22T12:09:46.419Z"
   },
   {
    "duration": 44,
    "start_time": "2021-11-22T12:09:47.571Z"
   },
   {
    "duration": 12,
    "start_time": "2021-11-22T12:09:47.621Z"
   },
   {
    "duration": 45,
    "start_time": "2021-11-22T12:09:47.637Z"
   },
   {
    "duration": 26,
    "start_time": "2021-11-22T12:09:47.685Z"
   },
   {
    "duration": 24,
    "start_time": "2021-11-22T12:09:47.714Z"
   },
   {
    "duration": 41,
    "start_time": "2021-11-22T12:09:47.741Z"
   },
   {
    "duration": 27,
    "start_time": "2021-11-22T12:09:47.790Z"
   },
   {
    "duration": 12,
    "start_time": "2021-11-22T12:09:47.820Z"
   },
   {
    "duration": 704,
    "start_time": "2021-11-22T12:09:47.835Z"
   },
   {
    "duration": 12,
    "start_time": "2021-11-22T12:09:48.542Z"
   },
   {
    "duration": 33,
    "start_time": "2021-11-22T12:09:48.556Z"
   },
   {
    "duration": 11,
    "start_time": "2021-11-22T12:09:48.591Z"
   },
   {
    "duration": 139,
    "start_time": "2021-11-22T12:09:48.604Z"
   },
   {
    "duration": 3,
    "start_time": "2021-11-22T12:09:48.746Z"
   },
   {
    "duration": 31,
    "start_time": "2021-11-22T12:09:48.752Z"
   },
   {
    "duration": 19,
    "start_time": "2021-11-22T12:09:48.793Z"
   },
   {
    "duration": 16,
    "start_time": "2021-11-22T12:09:48.815Z"
   },
   {
    "duration": 14,
    "start_time": "2021-11-22T12:09:48.834Z"
   },
   {
    "duration": 52,
    "start_time": "2021-11-22T12:09:48.850Z"
   },
   {
    "duration": 100,
    "start_time": "2021-11-22T12:09:48.911Z"
   },
   {
    "duration": 6,
    "start_time": "2021-11-22T12:09:49.014Z"
   },
   {
    "duration": 11,
    "start_time": "2021-11-22T12:09:49.023Z"
   },
   {
    "duration": 11,
    "start_time": "2021-11-22T12:09:49.036Z"
   },
   {
    "duration": 7,
    "start_time": "2021-11-22T12:09:49.050Z"
   },
   {
    "duration": 16,
    "start_time": "2021-11-22T12:09:49.082Z"
   },
   {
    "duration": 103,
    "start_time": "2021-11-22T12:09:49.101Z"
   },
   {
    "duration": 88,
    "start_time": "2021-11-22T12:09:49.207Z"
   },
   {
    "duration": 7377,
    "start_time": "2021-11-22T12:09:49.299Z"
   },
   {
    "duration": 1669,
    "start_time": "2021-11-22T12:09:56.682Z"
   },
   {
    "duration": 121229,
    "start_time": "2021-11-22T12:09:58.355Z"
   },
   {
    "duration": 103839,
    "start_time": "2021-11-22T12:11:59.587Z"
   },
   {
    "duration": 27,
    "start_time": "2021-11-22T12:13:43.429Z"
   },
   {
    "duration": 1408,
    "start_time": "2021-11-22T12:13:43.459Z"
   },
   {
    "duration": 1541,
    "start_time": "2021-11-22T12:14:17.051Z"
   },
   {
    "duration": 4,
    "start_time": "2021-11-22T12:14:18.594Z"
   },
   {
    "duration": 229,
    "start_time": "2021-11-22T12:14:18.604Z"
   },
   {
    "duration": 21,
    "start_time": "2021-11-22T12:14:18.836Z"
   },
   {
    "duration": 16,
    "start_time": "2021-11-22T12:14:18.859Z"
   },
   {
    "duration": 10,
    "start_time": "2021-11-22T12:14:18.878Z"
   },
   {
    "duration": 1174,
    "start_time": "2021-11-22T12:14:18.893Z"
   },
   {
    "duration": 31,
    "start_time": "2021-11-22T12:14:20.070Z"
   },
   {
    "duration": 12,
    "start_time": "2021-11-22T12:14:20.103Z"
   },
   {
    "duration": 24,
    "start_time": "2021-11-22T12:14:20.117Z"
   },
   {
    "duration": 46,
    "start_time": "2021-11-22T12:14:20.143Z"
   },
   {
    "duration": 36,
    "start_time": "2021-11-22T12:14:20.193Z"
   },
   {
    "duration": 15,
    "start_time": "2021-11-22T12:14:20.232Z"
   },
   {
    "duration": 38,
    "start_time": "2021-11-22T12:14:20.249Z"
   },
   {
    "duration": 13,
    "start_time": "2021-11-22T12:14:20.290Z"
   },
   {
    "duration": 659,
    "start_time": "2021-11-22T12:14:20.305Z"
   },
   {
    "duration": 22,
    "start_time": "2021-11-22T12:14:20.967Z"
   },
   {
    "duration": 12,
    "start_time": "2021-11-22T12:14:20.992Z"
   },
   {
    "duration": 15,
    "start_time": "2021-11-22T12:14:21.007Z"
   },
   {
    "duration": 149,
    "start_time": "2021-11-22T12:14:21.025Z"
   },
   {
    "duration": 3,
    "start_time": "2021-11-22T12:14:21.181Z"
   },
   {
    "duration": 13,
    "start_time": "2021-11-22T12:14:21.191Z"
   },
   {
    "duration": 26,
    "start_time": "2021-11-22T12:14:21.207Z"
   },
   {
    "duration": 53,
    "start_time": "2021-11-22T12:14:21.236Z"
   },
   {
    "duration": 24,
    "start_time": "2021-11-22T12:14:21.292Z"
   },
   {
    "duration": 22,
    "start_time": "2021-11-22T12:14:21.319Z"
   },
   {
    "duration": 57,
    "start_time": "2021-11-22T12:14:21.343Z"
   },
   {
    "duration": 5,
    "start_time": "2021-11-22T12:14:21.402Z"
   },
   {
    "duration": 18,
    "start_time": "2021-11-22T12:14:21.409Z"
   },
   {
    "duration": 26,
    "start_time": "2021-11-22T12:14:21.429Z"
   },
   {
    "duration": 8,
    "start_time": "2021-11-22T12:14:21.458Z"
   },
   {
    "duration": 17,
    "start_time": "2021-11-22T12:14:21.469Z"
   },
   {
    "duration": 204,
    "start_time": "2021-11-22T12:14:21.489Z"
   },
   {
    "duration": 85,
    "start_time": "2021-11-22T12:14:21.696Z"
   },
   {
    "duration": 5998,
    "start_time": "2021-11-22T12:14:21.784Z"
   },
   {
    "duration": 1368,
    "start_time": "2021-11-22T12:14:27.784Z"
   },
   {
    "duration": 98242,
    "start_time": "2021-11-22T12:14:29.154Z"
   },
   {
    "duration": 102691,
    "start_time": "2021-11-22T12:16:07.399Z"
   },
   {
    "duration": 19,
    "start_time": "2021-11-22T12:17:50.092Z"
   },
   {
    "duration": 936,
    "start_time": "2021-11-22T12:17:50.114Z"
   },
   {
    "duration": 10,
    "start_time": "2021-11-22T12:22:05.328Z"
   },
   {
    "duration": 11,
    "start_time": "2021-11-22T12:31:24.141Z"
   },
   {
    "duration": 103631,
    "start_time": "2021-11-22T12:31:30.708Z"
   },
   {
    "duration": 1162,
    "start_time": "2021-11-23T05:06:54.364Z"
   },
   {
    "duration": 2,
    "start_time": "2021-11-23T05:06:55.528Z"
   },
   {
    "duration": 319,
    "start_time": "2021-11-23T05:06:55.532Z"
   },
   {
    "duration": -39,
    "start_time": "2021-11-23T05:06:55.893Z"
   },
   {
    "duration": -44,
    "start_time": "2021-11-23T05:06:55.899Z"
   },
   {
    "duration": -82,
    "start_time": "2021-11-23T05:06:55.938Z"
   },
   {
    "duration": -87,
    "start_time": "2021-11-23T05:06:55.943Z"
   },
   {
    "duration": -89,
    "start_time": "2021-11-23T05:06:55.946Z"
   },
   {
    "duration": -99,
    "start_time": "2021-11-23T05:06:55.957Z"
   },
   {
    "duration": -103,
    "start_time": "2021-11-23T05:06:55.962Z"
   },
   {
    "duration": -106,
    "start_time": "2021-11-23T05:06:55.966Z"
   },
   {
    "duration": -114,
    "start_time": "2021-11-23T05:06:55.974Z"
   },
   {
    "duration": -118,
    "start_time": "2021-11-23T05:06:55.979Z"
   },
   {
    "duration": -130,
    "start_time": "2021-11-23T05:06:55.992Z"
   },
   {
    "duration": -171,
    "start_time": "2021-11-23T05:06:56.034Z"
   },
   {
    "duration": -178,
    "start_time": "2021-11-23T05:06:56.042Z"
   },
   {
    "duration": -181,
    "start_time": "2021-11-23T05:06:56.046Z"
   },
   {
    "duration": -183,
    "start_time": "2021-11-23T05:06:56.049Z"
   },
   {
    "duration": -189,
    "start_time": "2021-11-23T05:06:56.056Z"
   },
   {
    "duration": -192,
    "start_time": "2021-11-23T05:06:56.060Z"
   },
   {
    "duration": -194,
    "start_time": "2021-11-23T05:06:56.063Z"
   },
   {
    "duration": -200,
    "start_time": "2021-11-23T05:06:56.070Z"
   },
   {
    "duration": -203,
    "start_time": "2021-11-23T05:06:56.074Z"
   },
   {
    "duration": -227,
    "start_time": "2021-11-23T05:06:56.099Z"
   },
   {
    "duration": -233,
    "start_time": "2021-11-23T05:06:56.106Z"
   },
   {
    "duration": -236,
    "start_time": "2021-11-23T05:06:56.110Z"
   },
   {
    "duration": -237,
    "start_time": "2021-11-23T05:06:56.112Z"
   },
   {
    "duration": -245,
    "start_time": "2021-11-23T05:06:56.121Z"
   },
   {
    "duration": -247,
    "start_time": "2021-11-23T05:06:56.123Z"
   },
   {
    "duration": -251,
    "start_time": "2021-11-23T05:06:56.128Z"
   },
   {
    "duration": -253,
    "start_time": "2021-11-23T05:06:56.131Z"
   },
   {
    "duration": -259,
    "start_time": "2021-11-23T05:06:56.138Z"
   },
   {
    "duration": -263,
    "start_time": "2021-11-23T05:06:56.143Z"
   },
   {
    "duration": -265,
    "start_time": "2021-11-23T05:06:56.146Z"
   },
   {
    "duration": -280,
    "start_time": "2021-11-23T05:06:56.162Z"
   },
   {
    "duration": -286,
    "start_time": "2021-11-23T05:06:56.168Z"
   },
   {
    "duration": -294,
    "start_time": "2021-11-23T05:06:56.177Z"
   },
   {
    "duration": -297,
    "start_time": "2021-11-23T05:06:56.181Z"
   },
   {
    "duration": -300,
    "start_time": "2021-11-23T05:06:56.185Z"
   },
   {
    "duration": -303,
    "start_time": "2021-11-23T05:06:56.189Z"
   },
   {
    "duration": -305,
    "start_time": "2021-11-23T05:06:56.192Z"
   },
   {
    "duration": -307,
    "start_time": "2021-11-23T05:06:56.195Z"
   },
   {
    "duration": -311,
    "start_time": "2021-11-23T05:06:56.199Z"
   },
   {
    "duration": -317,
    "start_time": "2021-11-23T05:06:56.206Z"
   },
   {
    "duration": 1157,
    "start_time": "2021-11-23T05:07:30.603Z"
   },
   {
    "duration": 2,
    "start_time": "2021-11-23T05:07:31.762Z"
   },
   {
    "duration": 434,
    "start_time": "2021-11-23T05:07:31.766Z"
   },
   {
    "duration": 10,
    "start_time": "2021-11-23T05:07:32.202Z"
   },
   {
    "duration": 11,
    "start_time": "2021-11-23T05:07:32.213Z"
   },
   {
    "duration": 659,
    "start_time": "2021-11-23T05:07:32.226Z"
   },
   {
    "duration": 14,
    "start_time": "2021-11-23T05:07:32.887Z"
   },
   {
    "duration": 14,
    "start_time": "2021-11-23T05:07:32.902Z"
   },
   {
    "duration": 13,
    "start_time": "2021-11-23T05:07:32.917Z"
   },
   {
    "duration": 61,
    "start_time": "2021-11-23T05:07:32.931Z"
   },
   {
    "duration": 5,
    "start_time": "2021-11-23T05:07:32.994Z"
   },
   {
    "duration": 12,
    "start_time": "2021-11-23T05:07:33.000Z"
   },
   {
    "duration": 7,
    "start_time": "2021-11-23T05:07:33.014Z"
   },
   {
    "duration": 402,
    "start_time": "2021-11-23T05:07:33.022Z"
   },
   {
    "duration": 7,
    "start_time": "2021-11-23T05:07:33.426Z"
   },
   {
    "duration": 7,
    "start_time": "2021-11-23T05:07:33.434Z"
   },
   {
    "duration": 9,
    "start_time": "2021-11-23T05:07:33.443Z"
   },
   {
    "duration": 4,
    "start_time": "2021-11-23T05:07:33.455Z"
   },
   {
    "duration": 113,
    "start_time": "2021-11-23T05:07:33.461Z"
   },
   {
    "duration": 15,
    "start_time": "2021-11-23T05:07:33.576Z"
   },
   {
    "duration": 27,
    "start_time": "2021-11-23T05:07:33.593Z"
   },
   {
    "duration": 6,
    "start_time": "2021-11-23T05:07:33.622Z"
   },
   {
    "duration": 9,
    "start_time": "2021-11-23T05:07:33.630Z"
   },
   {
    "duration": 11,
    "start_time": "2021-11-23T05:07:33.640Z"
   },
   {
    "duration": 43,
    "start_time": "2021-11-23T05:07:33.653Z"
   },
   {
    "duration": 11,
    "start_time": "2021-11-23T05:07:33.698Z"
   },
   {
    "duration": 6,
    "start_time": "2021-11-23T05:07:33.711Z"
   },
   {
    "duration": 8,
    "start_time": "2021-11-23T05:07:33.718Z"
   },
   {
    "duration": 6,
    "start_time": "2021-11-23T05:07:33.727Z"
   },
   {
    "duration": 7,
    "start_time": "2021-11-23T05:07:33.735Z"
   },
   {
    "duration": 9,
    "start_time": "2021-11-23T05:07:33.743Z"
   },
   {
    "duration": 5,
    "start_time": "2021-11-23T05:07:33.753Z"
   },
   {
    "duration": 33,
    "start_time": "2021-11-23T05:07:33.759Z"
   },
   {
    "duration": 11,
    "start_time": "2021-11-23T05:07:33.794Z"
   },
   {
    "duration": 4,
    "start_time": "2021-11-23T05:07:33.807Z"
   },
   {
    "duration": 5724,
    "start_time": "2021-11-23T05:07:33.813Z"
   },
   {
    "duration": 1126,
    "start_time": "2021-11-23T05:07:39.539Z"
   },
   {
    "duration": 1231,
    "start_time": "2021-11-23T05:07:40.667Z"
   },
   {
    "duration": 94033,
    "start_time": "2021-11-23T05:07:41.899Z"
   },
   {
    "duration": 458,
    "start_time": "2021-11-23T05:09:15.934Z"
   },
   {
    "duration": 103,
    "start_time": "2021-11-23T05:09:16.395Z"
   },
   {
    "duration": 192,
    "start_time": "2021-11-23T05:09:16.500Z"
   },
   {
    "duration": 406,
    "start_time": "2021-11-23T05:09:16.694Z"
   },
   {
    "duration": 336,
    "start_time": "2021-11-23T05:09:17.101Z"
   },
   {
    "duration": 14,
    "start_time": "2021-11-23T05:10:49.588Z"
   },
   {
    "duration": 451,
    "start_time": "2021-11-23T05:10:50.385Z"
   },
   {
    "duration": 16,
    "start_time": "2021-11-23T05:10:52.711Z"
   },
   {
    "duration": 1126,
    "start_time": "2021-11-23T05:13:33.668Z"
   },
   {
    "duration": 2,
    "start_time": "2021-11-23T05:13:34.796Z"
   },
   {
    "duration": 91,
    "start_time": "2021-11-23T05:13:34.800Z"
   },
   {
    "duration": 10,
    "start_time": "2021-11-23T05:13:34.892Z"
   },
   {
    "duration": 12,
    "start_time": "2021-11-23T05:13:34.903Z"
   },
   {
    "duration": 664,
    "start_time": "2021-11-23T05:13:34.918Z"
   },
   {
    "duration": 13,
    "start_time": "2021-11-23T05:13:35.591Z"
   },
   {
    "duration": 15,
    "start_time": "2021-11-23T05:13:35.605Z"
   },
   {
    "duration": 12,
    "start_time": "2021-11-23T05:13:35.621Z"
   },
   {
    "duration": 61,
    "start_time": "2021-11-23T05:13:35.634Z"
   },
   {
    "duration": 14,
    "start_time": "2021-11-23T05:13:35.696Z"
   },
   {
    "duration": 6,
    "start_time": "2021-11-23T05:13:35.712Z"
   },
   {
    "duration": 403,
    "start_time": "2021-11-23T05:13:35.720Z"
   },
   {
    "duration": 7,
    "start_time": "2021-11-23T05:13:36.125Z"
   },
   {
    "duration": 7,
    "start_time": "2021-11-23T05:13:36.134Z"
   },
   {
    "duration": 8,
    "start_time": "2021-11-23T05:13:36.142Z"
   },
   {
    "duration": 6,
    "start_time": "2021-11-23T05:13:36.152Z"
   },
   {
    "duration": 119,
    "start_time": "2021-11-23T05:13:36.162Z"
   },
   {
    "duration": 14,
    "start_time": "2021-11-23T05:13:36.283Z"
   },
   {
    "duration": 29,
    "start_time": "2021-11-23T05:13:36.299Z"
   },
   {
    "duration": 10,
    "start_time": "2021-11-23T05:13:36.329Z"
   },
   {
    "duration": 9,
    "start_time": "2021-11-23T05:13:36.341Z"
   },
   {
    "duration": 42,
    "start_time": "2021-11-23T05:13:36.351Z"
   },
   {
    "duration": 11,
    "start_time": "2021-11-23T05:13:36.395Z"
   },
   {
    "duration": 7,
    "start_time": "2021-11-23T05:13:36.408Z"
   },
   {
    "duration": 7,
    "start_time": "2021-11-23T05:13:36.416Z"
   },
   {
    "duration": 6,
    "start_time": "2021-11-23T05:13:36.425Z"
   },
   {
    "duration": 6,
    "start_time": "2021-11-23T05:13:36.433Z"
   },
   {
    "duration": 6,
    "start_time": "2021-11-23T05:13:36.440Z"
   },
   {
    "duration": 5,
    "start_time": "2021-11-23T05:13:36.447Z"
   },
   {
    "duration": 39,
    "start_time": "2021-11-23T05:13:36.453Z"
   },
   {
    "duration": 9,
    "start_time": "2021-11-23T05:13:36.494Z"
   },
   {
    "duration": 3,
    "start_time": "2021-11-23T05:13:36.505Z"
   },
   {
    "duration": 5728,
    "start_time": "2021-11-23T05:13:36.509Z"
   },
   {
    "duration": 1124,
    "start_time": "2021-11-23T05:13:42.238Z"
   },
   {
    "duration": 1240,
    "start_time": "2021-11-23T05:13:43.364Z"
   },
   {
    "duration": 12628,
    "start_time": "2021-11-23T05:13:44.606Z"
   },
   {
    "duration": -47,
    "start_time": "2021-11-23T05:13:57.284Z"
   },
   {
    "duration": -56,
    "start_time": "2021-11-23T05:13:57.294Z"
   },
   {
    "duration": -60,
    "start_time": "2021-11-23T05:13:57.299Z"
   },
   {
    "duration": -62,
    "start_time": "2021-11-23T05:13:57.303Z"
   },
   {
    "duration": -71,
    "start_time": "2021-11-23T05:13:57.313Z"
   },
   {
    "duration": -74,
    "start_time": "2021-11-23T05:13:57.317Z"
   },
   {
    "duration": 635,
    "start_time": "2021-11-23T05:13:58.628Z"
   },
   {
    "duration": 1153,
    "start_time": "2021-11-23T05:14:06.608Z"
   },
   {
    "duration": 2,
    "start_time": "2021-11-23T05:14:07.763Z"
   },
   {
    "duration": 88,
    "start_time": "2021-11-23T05:14:07.768Z"
   },
   {
    "duration": 9,
    "start_time": "2021-11-23T05:14:07.858Z"
   },
   {
    "duration": 24,
    "start_time": "2021-11-23T05:14:07.868Z"
   },
   {
    "duration": 657,
    "start_time": "2021-11-23T05:14:07.894Z"
   },
   {
    "duration": 12,
    "start_time": "2021-11-23T05:14:08.553Z"
   },
   {
    "duration": 25,
    "start_time": "2021-11-23T05:14:08.567Z"
   },
   {
    "duration": 14,
    "start_time": "2021-11-23T05:14:08.595Z"
   },
   {
    "duration": 43,
    "start_time": "2021-11-23T05:14:08.611Z"
   },
   {
    "duration": 37,
    "start_time": "2021-11-23T05:14:08.656Z"
   },
   {
    "duration": 7,
    "start_time": "2021-11-23T05:14:08.695Z"
   },
   {
    "duration": 392,
    "start_time": "2021-11-23T05:14:08.704Z"
   },
   {
    "duration": 7,
    "start_time": "2021-11-23T05:14:09.098Z"
   },
   {
    "duration": 6,
    "start_time": "2021-11-23T05:14:09.107Z"
   },
   {
    "duration": 8,
    "start_time": "2021-11-23T05:14:09.114Z"
   },
   {
    "duration": 8,
    "start_time": "2021-11-23T05:14:09.123Z"
   },
   {
    "duration": 115,
    "start_time": "2021-11-23T05:14:09.132Z"
   },
   {
    "duration": 10,
    "start_time": "2021-11-23T05:14:09.248Z"
   },
   {
    "duration": 41,
    "start_time": "2021-11-23T05:14:09.260Z"
   },
   {
    "duration": 10,
    "start_time": "2021-11-23T05:14:09.303Z"
   },
   {
    "duration": 9,
    "start_time": "2021-11-23T05:14:09.314Z"
   },
   {
    "duration": 14,
    "start_time": "2021-11-23T05:14:09.325Z"
   },
   {
    "duration": 9,
    "start_time": "2021-11-23T05:14:09.341Z"
   },
   {
    "duration": 40,
    "start_time": "2021-11-23T05:14:09.352Z"
   },
   {
    "duration": 5,
    "start_time": "2021-11-23T05:14:09.394Z"
   },
   {
    "duration": 5,
    "start_time": "2021-11-23T05:14:09.402Z"
   },
   {
    "duration": 5,
    "start_time": "2021-11-23T05:14:09.409Z"
   },
   {
    "duration": 6,
    "start_time": "2021-11-23T05:14:09.416Z"
   },
   {
    "duration": 4,
    "start_time": "2021-11-23T05:14:09.424Z"
   },
   {
    "duration": 10,
    "start_time": "2021-11-23T05:14:09.430Z"
   },
   {
    "duration": 9,
    "start_time": "2021-11-23T05:14:09.441Z"
   },
   {
    "duration": 4,
    "start_time": "2021-11-23T05:14:09.493Z"
   },
   {
    "duration": 5646,
    "start_time": "2021-11-23T05:14:09.499Z"
   },
   {
    "duration": 1108,
    "start_time": "2021-11-23T05:14:15.146Z"
   },
   {
    "duration": 1245,
    "start_time": "2021-11-23T05:14:16.256Z"
   },
   {
    "duration": 93733,
    "start_time": "2021-11-23T05:14:17.503Z"
   },
   {
    "duration": 261,
    "start_time": "2021-11-23T05:15:51.238Z"
   },
   {
    "duration": 97,
    "start_time": "2021-11-23T05:15:51.502Z"
   },
   {
    "duration": 195,
    "start_time": "2021-11-23T05:15:51.602Z"
   },
   {
    "duration": 456,
    "start_time": "2021-11-23T05:15:51.799Z"
   },
   {
    "duration": 313,
    "start_time": "2021-11-23T05:15:52.256Z"
   },
   {
    "duration": 1160,
    "start_time": "2021-11-23T13:13:06.187Z"
   },
   {
    "duration": 3,
    "start_time": "2021-11-23T13:13:08.258Z"
   },
   {
    "duration": 87,
    "start_time": "2021-11-23T13:13:11.681Z"
   },
   {
    "duration": 1246,
    "start_time": "2021-11-24T05:43:39.873Z"
   },
   {
    "duration": 3,
    "start_time": "2021-11-24T05:43:41.121Z"
   },
   {
    "duration": 270,
    "start_time": "2021-11-24T05:43:41.126Z"
   },
   {
    "duration": 9,
    "start_time": "2021-11-24T05:43:41.398Z"
   },
   {
    "duration": 13,
    "start_time": "2021-11-24T05:43:41.409Z"
   },
   {
    "duration": 612,
    "start_time": "2021-11-24T05:43:41.424Z"
   },
   {
    "duration": 22,
    "start_time": "2021-11-24T05:43:42.038Z"
   },
   {
    "duration": 15,
    "start_time": "2021-11-24T05:43:42.061Z"
   },
   {
    "duration": 13,
    "start_time": "2021-11-24T05:43:42.078Z"
   },
   {
    "duration": 69,
    "start_time": "2021-11-24T05:43:42.094Z"
   },
   {
    "duration": 13,
    "start_time": "2021-11-24T05:43:42.165Z"
   },
   {
    "duration": 7,
    "start_time": "2021-11-24T05:43:42.179Z"
   },
   {
    "duration": 387,
    "start_time": "2021-11-24T05:43:42.187Z"
   },
   {
    "duration": 7,
    "start_time": "2021-11-24T05:43:42.576Z"
   },
   {
    "duration": 11,
    "start_time": "2021-11-24T05:43:42.585Z"
   },
   {
    "duration": 18,
    "start_time": "2021-11-24T05:43:42.598Z"
   },
   {
    "duration": 11,
    "start_time": "2021-11-24T05:43:42.618Z"
   },
   {
    "duration": 94,
    "start_time": "2021-11-24T05:43:42.631Z"
   },
   {
    "duration": 19,
    "start_time": "2021-11-24T05:43:42.727Z"
   },
   {
    "duration": 29,
    "start_time": "2021-11-24T05:43:42.748Z"
   },
   {
    "duration": 10,
    "start_time": "2021-11-24T05:43:42.779Z"
   },
   {
    "duration": 10,
    "start_time": "2021-11-24T05:43:42.791Z"
   },
   {
    "duration": 44,
    "start_time": "2021-11-24T05:43:42.802Z"
   },
   {
    "duration": 9,
    "start_time": "2021-11-24T05:43:42.848Z"
   },
   {
    "duration": 6,
    "start_time": "2021-11-24T05:43:42.859Z"
   },
   {
    "duration": 7,
    "start_time": "2021-11-24T05:43:42.867Z"
   },
   {
    "duration": 6,
    "start_time": "2021-11-24T05:43:42.877Z"
   },
   {
    "duration": 6,
    "start_time": "2021-11-24T05:43:42.885Z"
   },
   {
    "duration": 6,
    "start_time": "2021-11-24T05:43:42.893Z"
   },
   {
    "duration": 6,
    "start_time": "2021-11-24T05:43:42.900Z"
   },
   {
    "duration": 12,
    "start_time": "2021-11-24T05:43:42.944Z"
   },
   {
    "duration": 13,
    "start_time": "2021-11-24T05:43:42.958Z"
   },
   {
    "duration": 4,
    "start_time": "2021-11-24T05:43:42.973Z"
   },
   {
    "duration": 5869,
    "start_time": "2021-11-24T05:43:42.979Z"
   },
   {
    "duration": 1267,
    "start_time": "2021-11-24T05:43:48.850Z"
   },
   {
    "duration": 2337,
    "start_time": "2021-11-24T05:43:50.118Z"
   },
   {
    "duration": 84735,
    "start_time": "2021-11-24T05:43:52.457Z"
   },
   {
    "duration": 263,
    "start_time": "2021-11-24T05:45:17.193Z"
   },
   {
    "duration": 95,
    "start_time": "2021-11-24T05:45:17.459Z"
   },
   {
    "duration": 106,
    "start_time": "2021-11-24T05:45:17.646Z"
   },
   {
    "duration": 461,
    "start_time": "2021-11-24T05:45:17.754Z"
   },
   {
    "duration": 909,
    "start_time": "2021-11-24T05:45:18.217Z"
   },
   {
    "duration": 24,
    "start_time": "2021-11-24T05:45:19.128Z"
   },
   {
    "duration": 5,
    "start_time": "2021-11-24T06:06:24.696Z"
   },
   {
    "duration": 4,
    "start_time": "2021-11-24T06:06:37.740Z"
   },
   {
    "duration": 15,
    "start_time": "2021-11-24T06:06:51.391Z"
   },
   {
    "duration": 431,
    "start_time": "2021-11-24T06:06:52.326Z"
   },
   {
    "duration": 1178,
    "start_time": "2021-11-24T06:10:07.944Z"
   },
   {
    "duration": 3,
    "start_time": "2021-11-24T06:10:09.124Z"
   },
   {
    "duration": 281,
    "start_time": "2021-11-24T06:10:09.130Z"
   },
   {
    "duration": 9,
    "start_time": "2021-11-24T06:10:09.413Z"
   },
   {
    "duration": 13,
    "start_time": "2021-11-24T06:10:09.424Z"
   },
   {
    "duration": 662,
    "start_time": "2021-11-24T06:10:09.438Z"
   },
   {
    "duration": 102,
    "start_time": "2021-11-24T06:10:10.101Z"
   },
   {
    "duration": 18,
    "start_time": "2021-11-24T06:10:10.205Z"
   },
   {
    "duration": 11,
    "start_time": "2021-11-24T06:10:10.226Z"
   },
   {
    "duration": 42,
    "start_time": "2021-11-24T06:10:10.239Z"
   },
   {
    "duration": 12,
    "start_time": "2021-11-24T06:10:10.283Z"
   },
   {
    "duration": 6,
    "start_time": "2021-11-24T06:10:10.297Z"
   },
   {
    "duration": 380,
    "start_time": "2021-11-24T06:10:10.304Z"
   },
   {
    "duration": 7,
    "start_time": "2021-11-24T06:10:10.685Z"
   },
   {
    "duration": 7,
    "start_time": "2021-11-24T06:10:10.693Z"
   },
   {
    "duration": 8,
    "start_time": "2021-11-24T06:10:10.701Z"
   },
   {
    "duration": 4,
    "start_time": "2021-11-24T06:10:10.711Z"
   },
   {
    "duration": 143,
    "start_time": "2021-11-24T06:10:10.716Z"
   },
   {
    "duration": 9,
    "start_time": "2021-11-24T06:10:10.861Z"
   },
   {
    "duration": 28,
    "start_time": "2021-11-24T06:10:10.871Z"
   },
   {
    "duration": 9,
    "start_time": "2021-11-24T06:10:10.901Z"
   },
   {
    "duration": 11,
    "start_time": "2021-11-24T06:10:10.912Z"
   },
   {
    "duration": 13,
    "start_time": "2021-11-24T06:10:10.944Z"
   },
   {
    "duration": 9,
    "start_time": "2021-11-24T06:10:10.959Z"
   },
   {
    "duration": 5,
    "start_time": "2021-11-24T06:10:10.970Z"
   },
   {
    "duration": 8,
    "start_time": "2021-11-24T06:10:10.977Z"
   },
   {
    "duration": 4,
    "start_time": "2021-11-24T06:10:10.989Z"
   },
   {
    "duration": 5,
    "start_time": "2021-11-24T06:10:10.995Z"
   },
   {
    "duration": 5,
    "start_time": "2021-11-24T06:10:11.002Z"
   },
   {
    "duration": 37,
    "start_time": "2021-11-24T06:10:11.008Z"
   },
   {
    "duration": 9,
    "start_time": "2021-11-24T06:10:11.047Z"
   },
   {
    "duration": 11,
    "start_time": "2021-11-24T06:10:11.058Z"
   },
   {
    "duration": 4,
    "start_time": "2021-11-24T06:10:11.071Z"
   },
   {
    "duration": 6171,
    "start_time": "2021-11-24T06:10:11.076Z"
   },
   {
    "duration": 1131,
    "start_time": "2021-11-24T06:10:17.249Z"
   },
   {
    "duration": 1672,
    "start_time": "2021-11-24T06:10:18.382Z"
   },
   {
    "duration": 84825,
    "start_time": "2021-11-24T06:10:20.056Z"
   },
   {
    "duration": 372,
    "start_time": "2021-11-24T06:11:44.883Z"
   },
   {
    "duration": 191,
    "start_time": "2021-11-24T06:11:45.257Z"
   },
   {
    "duration": 104,
    "start_time": "2021-11-24T06:11:45.450Z"
   },
   {
    "duration": 432,
    "start_time": "2021-11-24T06:11:45.555Z"
   },
   {
    "duration": 551,
    "start_time": "2021-11-24T06:11:45.989Z"
   },
   {
    "duration": 18,
    "start_time": "2021-11-24T06:11:46.541Z"
   }
  ],
  "hide_input": false,
  "kernelspec": {
   "display_name": "Python 3 (ipykernel)",
   "language": "python",
   "name": "python3"
  },
  "language_info": {
   "codemirror_mode": {
    "name": "ipython",
    "version": 3
   },
   "file_extension": ".py",
   "mimetype": "text/x-python",
   "name": "python",
   "nbconvert_exporter": "python",
   "pygments_lexer": "ipython3",
   "version": "3.9.7"
  },
  "toc": {
   "base_numbering": 1,
   "nav_menu": {
    "height": "211px",
    "width": "313px"
   },
   "number_sections": true,
   "sideBar": true,
   "skip_h1_title": true,
   "title_cell": "Table of Contents",
   "title_sidebar": "Contents",
   "toc_cell": false,
   "toc_position": {
    "height": "calc(100% - 180px)",
    "left": "10px",
    "top": "150px",
    "width": "171.6px"
   },
   "toc_section_display": true,
   "toc_window_display": true
  },
  "varInspector": {
   "cols": {
    "lenName": 16,
    "lenType": 16,
    "lenVar": 40
   },
   "kernels_config": {
    "python": {
     "delete_cmd_postfix": "",
     "delete_cmd_prefix": "del ",
     "library": "var_list.py",
     "varRefreshCmd": "print(var_dic_list())"
    },
    "r": {
     "delete_cmd_postfix": ") ",
     "delete_cmd_prefix": "rm(",
     "library": "var_list.r",
     "varRefreshCmd": "cat(var_dic_list()) "
    }
   },
   "types_to_exclude": [
    "module",
    "function",
    "builtin_function_or_method",
    "instance",
    "_Feature"
   ],
   "window_display": false
  }
 },
 "nbformat": 4,
 "nbformat_minor": 2
}
